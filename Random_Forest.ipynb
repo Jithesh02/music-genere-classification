{
  "cells": [
    {
      "cell_type": "markdown",
      "metadata": {
        "id": "view-in-github",
        "colab_type": "text"
      },
      "source": [
        "<a href=\"https://colab.research.google.com/github/Jithesh02/music-genere-classification/blob/main/Random_Forest.ipynb\" target=\"_parent\"><img src=\"https://colab.research.google.com/assets/colab-badge.svg\" alt=\"Open In Colab\"/></a>"
      ]
    },
    {
      "cell_type": "markdown",
      "id": "ef62bda4",
      "metadata": {
        "id": "ef62bda4"
      },
      "source": [
        "# Random Forest Model"
      ]
    },
    {
      "cell_type": "markdown",
      "source": [],
      "metadata": {
        "id": "rc2jTbxoecg0"
      },
      "id": "rc2jTbxoecg0"
    },
    {
      "cell_type": "code",
      "execution_count": null,
      "id": "c3e20d3d",
      "metadata": {
        "id": "c3e20d3d"
      },
      "outputs": [],
      "source": [
        "import numpy as np\n",
        "import pandas as pd\n",
        "from sklearn.model_selection import train_test_split\n",
        "from sklearn.metrics import accuracy_score,confusion_matrix\n",
        "from sklearn.preprocessing import LabelEncoder\n",
        "from sklearn.ensemble import RandomForestClassifier\n",
        "import matplotlib.pyplot as plt\n",
        "import seaborn as sn"
      ]
    },
    {
      "cell_type": "code",
      "source": [
        "from google.colab import drive\n",
        "drive.mount('/content/drive')"
      ],
      "metadata": {
        "colab": {
          "base_uri": "https://localhost:8080/"
        },
        "id": "K8Mn2cNc2Wz3",
        "outputId": "6acae71d-9fc6-41ef-ec73-ab844913ab74"
      },
      "id": "K8Mn2cNc2Wz3",
      "execution_count": null,
      "outputs": [
        {
          "output_type": "stream",
          "name": "stdout",
          "text": [
            "Mounted at /content/drive\n"
          ]
        }
      ]
    },
    {
      "cell_type": "code",
      "execution_count": null,
      "id": "770e4ff4",
      "metadata": {
        "colab": {
          "base_uri": "https://localhost:8080/"
        },
        "id": "770e4ff4",
        "outputId": "93f9f1b5-70e4-4c35-b11c-c4a05245df83"
      },
      "outputs": [
        {
          "output_type": "execute_result",
          "data": {
            "text/plain": [
              "(1000, 60)"
            ]
          },
          "metadata": {},
          "execution_count": 31
        }
      ],
      "source": [
        "df = pd.read_csv(\"/content/drive/MyDrive/features_30_sec.csv\")\n",
        "df.shape"
      ]
    },
    {
      "cell_type": "code",
      "execution_count": null,
      "id": "36f941e1",
      "metadata": {
        "colab": {
          "base_uri": "https://localhost:8080/",
          "height": 165
        },
        "id": "36f941e1",
        "outputId": "06f03ca0-7710-4e7d-b5bc-bbd46a4c1f4c"
      },
      "outputs": [
        {
          "output_type": "error",
          "ename": "NameError",
          "evalue": "ignored",
          "traceback": [
            "\u001b[0;31m---------------------------------------------------------------------------\u001b[0m",
            "\u001b[0;31mNameError\u001b[0m                                 Traceback (most recent call last)",
            "\u001b[0;32m<ipython-input-8-c42a15b2c7cf>\u001b[0m in \u001b[0;36m<module>\u001b[0;34m\u001b[0m\n\u001b[0;32m----> 1\u001b[0;31m \u001b[0mdf\u001b[0m\u001b[0;34m.\u001b[0m\u001b[0mhead\u001b[0m\u001b[0;34m(\u001b[0m\u001b[0;34m)\u001b[0m\u001b[0;34m\u001b[0m\u001b[0;34m\u001b[0m\u001b[0m\n\u001b[0m",
            "\u001b[0;31mNameError\u001b[0m: name 'df' is not defined"
          ]
        }
      ],
      "source": [
        "df.head()"
      ]
    },
    {
      "cell_type": "code",
      "execution_count": null,
      "id": "864914d2",
      "metadata": {
        "id": "864914d2"
      },
      "outputs": [],
      "source": []
    },
    {
      "cell_type": "markdown",
      "id": "75a8e8f7",
      "metadata": {
        "id": "75a8e8f7"
      },
      "source": [
        "### Taking the values of X and Y values"
      ]
    },
    {
      "cell_type": "code",
      "execution_count": null,
      "id": "bd68eab8",
      "metadata": {
        "colab": {
          "base_uri": "https://localhost:8080/",
          "height": 488
        },
        "id": "bd68eab8",
        "outputId": "d8e44159-52d2-4164-9644-6a8ff682e34a"
      },
      "outputs": [
        {
          "output_type": "execute_result",
          "data": {
            "text/plain": [
              "            filename  length  chroma_stft_mean  chroma_stft_var  rms_mean  \\\n",
              "0    blues.00000.wav  661794          0.350088         0.088757  0.130228   \n",
              "1    blues.00001.wav  661794          0.340914         0.094980  0.095948   \n",
              "2    blues.00002.wav  661794          0.363637         0.085275  0.175570   \n",
              "3    blues.00003.wav  661794          0.404785         0.093999  0.141093   \n",
              "4    blues.00004.wav  661794          0.308526         0.087841  0.091529   \n",
              "..               ...     ...               ...              ...       ...   \n",
              "995   rock.00095.wav  661794          0.352063         0.080487  0.079486   \n",
              "996   rock.00096.wav  661794          0.398687         0.075086  0.076458   \n",
              "997   rock.00097.wav  661794          0.432142         0.075268  0.081651   \n",
              "998   rock.00098.wav  661794          0.362485         0.091506  0.083860   \n",
              "999   rock.00099.wav  661794          0.358401         0.085884  0.054454   \n",
              "\n",
              "      rms_var  spectral_centroid_mean  spectral_centroid_var  \\\n",
              "0    0.002827             1784.165850          129774.064525   \n",
              "1    0.002373             1530.176679          375850.073649   \n",
              "2    0.002746             1552.811865          156467.643368   \n",
              "3    0.006346             1070.106615          184355.942417   \n",
              "4    0.002303             1835.004266          343399.939274   \n",
              "..        ...                     ...                    ...   \n",
              "995  0.000345             2008.149458          282174.689224   \n",
              "996  0.000588             2006.843354          182114.709510   \n",
              "997  0.000322             2077.526598          231657.968040   \n",
              "998  0.001211             1398.699344          240318.731073   \n",
              "999  0.000336             1609.795082          422203.216152   \n",
              "\n",
              "     spectral_bandwidth_mean  spectral_bandwidth_var  ...  mfcc16_mean  \\\n",
              "0                2002.449060            85882.761315  ...     0.752740   \n",
              "1                2039.036516           213843.755497  ...     0.927998   \n",
              "2                1747.702312            76254.192257  ...     2.451690   \n",
              "3                1596.412872           166441.494769  ...     0.780874   \n",
              "4                1748.172116            88445.209036  ...    -4.520576   \n",
              "..                       ...                     ...  ...          ...   \n",
              "995              2106.541053            88609.749506  ...     1.789867   \n",
              "996              2068.942009            82426.016726  ...     3.739020   \n",
              "997              1927.293153            74717.124394  ...     1.838090   \n",
              "998              1818.450280           109090.207161  ...    -2.812176   \n",
              "999              1797.213044           120115.632927  ...     1.794104   \n",
              "\n",
              "     mfcc16_var  mfcc17_mean  mfcc17_var  mfcc18_mean  mfcc18_var  \\\n",
              "0     52.420910    -1.690215   36.524071    -0.408979   41.597103   \n",
              "1     55.356403    -0.731125   60.314529     0.295073   48.120598   \n",
              "2     40.598766    -7.729093   47.639427    -1.816407   52.382141   \n",
              "3     44.427753    -3.319597   50.206673     0.636965   37.319130   \n",
              "4     86.099236    -5.454034   75.269707    -0.916874   53.613918   \n",
              "..          ...          ...         ...          ...         ...   \n",
              "995   45.050526   -13.289984   41.754955     2.484145   36.778877   \n",
              "996   33.851742   -10.848309   39.395096     1.881229   32.010040   \n",
              "997   33.597008   -12.845291   36.367264     3.440978   36.001110   \n",
              "998   46.324894    -4.416050   43.583942     1.556207   34.331261   \n",
              "999   59.167755    -7.069775   73.760391     0.028346   76.504326   \n",
              "\n",
              "     mfcc19_mean  mfcc19_var  mfcc20_mean  mfcc20_var  \n",
              "0      -2.303523   55.062923     1.221291   46.936035  \n",
              "1      -0.283518   51.106190     0.531217   45.786282  \n",
              "2      -3.439720   46.639660    -2.231258   30.573025  \n",
              "3      -0.619121   37.259739    -3.407448   31.949339  \n",
              "4      -4.404827   62.910812   -11.703234   55.195160  \n",
              "..           ...         ...          ...         ...  \n",
              "995    -6.713265   54.866825    -1.193787   49.950665  \n",
              "996    -7.461491   39.196327    -2.795338   31.773624  \n",
              "997   -12.588070   42.502201    -2.106337   29.865515  \n",
              "998    -5.041897   47.227180    -3.590644   41.299088  \n",
              "999    -2.025783   72.189316     1.155239   49.662510  \n",
              "\n",
              "[1000 rows x 59 columns]"
            ],
            "text/html": [
              "\n",
              "  <div id=\"df-4e38c5b5-845c-44a9-8a00-9b50f40146d0\">\n",
              "    <div class=\"colab-df-container\">\n",
              "      <div>\n",
              "<style scoped>\n",
              "    .dataframe tbody tr th:only-of-type {\n",
              "        vertical-align: middle;\n",
              "    }\n",
              "\n",
              "    .dataframe tbody tr th {\n",
              "        vertical-align: top;\n",
              "    }\n",
              "\n",
              "    .dataframe thead th {\n",
              "        text-align: right;\n",
              "    }\n",
              "</style>\n",
              "<table border=\"1\" class=\"dataframe\">\n",
              "  <thead>\n",
              "    <tr style=\"text-align: right;\">\n",
              "      <th></th>\n",
              "      <th>filename</th>\n",
              "      <th>length</th>\n",
              "      <th>chroma_stft_mean</th>\n",
              "      <th>chroma_stft_var</th>\n",
              "      <th>rms_mean</th>\n",
              "      <th>rms_var</th>\n",
              "      <th>spectral_centroid_mean</th>\n",
              "      <th>spectral_centroid_var</th>\n",
              "      <th>spectral_bandwidth_mean</th>\n",
              "      <th>spectral_bandwidth_var</th>\n",
              "      <th>...</th>\n",
              "      <th>mfcc16_mean</th>\n",
              "      <th>mfcc16_var</th>\n",
              "      <th>mfcc17_mean</th>\n",
              "      <th>mfcc17_var</th>\n",
              "      <th>mfcc18_mean</th>\n",
              "      <th>mfcc18_var</th>\n",
              "      <th>mfcc19_mean</th>\n",
              "      <th>mfcc19_var</th>\n",
              "      <th>mfcc20_mean</th>\n",
              "      <th>mfcc20_var</th>\n",
              "    </tr>\n",
              "  </thead>\n",
              "  <tbody>\n",
              "    <tr>\n",
              "      <th>0</th>\n",
              "      <td>blues.00000.wav</td>\n",
              "      <td>661794</td>\n",
              "      <td>0.350088</td>\n",
              "      <td>0.088757</td>\n",
              "      <td>0.130228</td>\n",
              "      <td>0.002827</td>\n",
              "      <td>1784.165850</td>\n",
              "      <td>129774.064525</td>\n",
              "      <td>2002.449060</td>\n",
              "      <td>85882.761315</td>\n",
              "      <td>...</td>\n",
              "      <td>0.752740</td>\n",
              "      <td>52.420910</td>\n",
              "      <td>-1.690215</td>\n",
              "      <td>36.524071</td>\n",
              "      <td>-0.408979</td>\n",
              "      <td>41.597103</td>\n",
              "      <td>-2.303523</td>\n",
              "      <td>55.062923</td>\n",
              "      <td>1.221291</td>\n",
              "      <td>46.936035</td>\n",
              "    </tr>\n",
              "    <tr>\n",
              "      <th>1</th>\n",
              "      <td>blues.00001.wav</td>\n",
              "      <td>661794</td>\n",
              "      <td>0.340914</td>\n",
              "      <td>0.094980</td>\n",
              "      <td>0.095948</td>\n",
              "      <td>0.002373</td>\n",
              "      <td>1530.176679</td>\n",
              "      <td>375850.073649</td>\n",
              "      <td>2039.036516</td>\n",
              "      <td>213843.755497</td>\n",
              "      <td>...</td>\n",
              "      <td>0.927998</td>\n",
              "      <td>55.356403</td>\n",
              "      <td>-0.731125</td>\n",
              "      <td>60.314529</td>\n",
              "      <td>0.295073</td>\n",
              "      <td>48.120598</td>\n",
              "      <td>-0.283518</td>\n",
              "      <td>51.106190</td>\n",
              "      <td>0.531217</td>\n",
              "      <td>45.786282</td>\n",
              "    </tr>\n",
              "    <tr>\n",
              "      <th>2</th>\n",
              "      <td>blues.00002.wav</td>\n",
              "      <td>661794</td>\n",
              "      <td>0.363637</td>\n",
              "      <td>0.085275</td>\n",
              "      <td>0.175570</td>\n",
              "      <td>0.002746</td>\n",
              "      <td>1552.811865</td>\n",
              "      <td>156467.643368</td>\n",
              "      <td>1747.702312</td>\n",
              "      <td>76254.192257</td>\n",
              "      <td>...</td>\n",
              "      <td>2.451690</td>\n",
              "      <td>40.598766</td>\n",
              "      <td>-7.729093</td>\n",
              "      <td>47.639427</td>\n",
              "      <td>-1.816407</td>\n",
              "      <td>52.382141</td>\n",
              "      <td>-3.439720</td>\n",
              "      <td>46.639660</td>\n",
              "      <td>-2.231258</td>\n",
              "      <td>30.573025</td>\n",
              "    </tr>\n",
              "    <tr>\n",
              "      <th>3</th>\n",
              "      <td>blues.00003.wav</td>\n",
              "      <td>661794</td>\n",
              "      <td>0.404785</td>\n",
              "      <td>0.093999</td>\n",
              "      <td>0.141093</td>\n",
              "      <td>0.006346</td>\n",
              "      <td>1070.106615</td>\n",
              "      <td>184355.942417</td>\n",
              "      <td>1596.412872</td>\n",
              "      <td>166441.494769</td>\n",
              "      <td>...</td>\n",
              "      <td>0.780874</td>\n",
              "      <td>44.427753</td>\n",
              "      <td>-3.319597</td>\n",
              "      <td>50.206673</td>\n",
              "      <td>0.636965</td>\n",
              "      <td>37.319130</td>\n",
              "      <td>-0.619121</td>\n",
              "      <td>37.259739</td>\n",
              "      <td>-3.407448</td>\n",
              "      <td>31.949339</td>\n",
              "    </tr>\n",
              "    <tr>\n",
              "      <th>4</th>\n",
              "      <td>blues.00004.wav</td>\n",
              "      <td>661794</td>\n",
              "      <td>0.308526</td>\n",
              "      <td>0.087841</td>\n",
              "      <td>0.091529</td>\n",
              "      <td>0.002303</td>\n",
              "      <td>1835.004266</td>\n",
              "      <td>343399.939274</td>\n",
              "      <td>1748.172116</td>\n",
              "      <td>88445.209036</td>\n",
              "      <td>...</td>\n",
              "      <td>-4.520576</td>\n",
              "      <td>86.099236</td>\n",
              "      <td>-5.454034</td>\n",
              "      <td>75.269707</td>\n",
              "      <td>-0.916874</td>\n",
              "      <td>53.613918</td>\n",
              "      <td>-4.404827</td>\n",
              "      <td>62.910812</td>\n",
              "      <td>-11.703234</td>\n",
              "      <td>55.195160</td>\n",
              "    </tr>\n",
              "    <tr>\n",
              "      <th>...</th>\n",
              "      <td>...</td>\n",
              "      <td>...</td>\n",
              "      <td>...</td>\n",
              "      <td>...</td>\n",
              "      <td>...</td>\n",
              "      <td>...</td>\n",
              "      <td>...</td>\n",
              "      <td>...</td>\n",
              "      <td>...</td>\n",
              "      <td>...</td>\n",
              "      <td>...</td>\n",
              "      <td>...</td>\n",
              "      <td>...</td>\n",
              "      <td>...</td>\n",
              "      <td>...</td>\n",
              "      <td>...</td>\n",
              "      <td>...</td>\n",
              "      <td>...</td>\n",
              "      <td>...</td>\n",
              "      <td>...</td>\n",
              "      <td>...</td>\n",
              "    </tr>\n",
              "    <tr>\n",
              "      <th>995</th>\n",
              "      <td>rock.00095.wav</td>\n",
              "      <td>661794</td>\n",
              "      <td>0.352063</td>\n",
              "      <td>0.080487</td>\n",
              "      <td>0.079486</td>\n",
              "      <td>0.000345</td>\n",
              "      <td>2008.149458</td>\n",
              "      <td>282174.689224</td>\n",
              "      <td>2106.541053</td>\n",
              "      <td>88609.749506</td>\n",
              "      <td>...</td>\n",
              "      <td>1.789867</td>\n",
              "      <td>45.050526</td>\n",
              "      <td>-13.289984</td>\n",
              "      <td>41.754955</td>\n",
              "      <td>2.484145</td>\n",
              "      <td>36.778877</td>\n",
              "      <td>-6.713265</td>\n",
              "      <td>54.866825</td>\n",
              "      <td>-1.193787</td>\n",
              "      <td>49.950665</td>\n",
              "    </tr>\n",
              "    <tr>\n",
              "      <th>996</th>\n",
              "      <td>rock.00096.wav</td>\n",
              "      <td>661794</td>\n",
              "      <td>0.398687</td>\n",
              "      <td>0.075086</td>\n",
              "      <td>0.076458</td>\n",
              "      <td>0.000588</td>\n",
              "      <td>2006.843354</td>\n",
              "      <td>182114.709510</td>\n",
              "      <td>2068.942009</td>\n",
              "      <td>82426.016726</td>\n",
              "      <td>...</td>\n",
              "      <td>3.739020</td>\n",
              "      <td>33.851742</td>\n",
              "      <td>-10.848309</td>\n",
              "      <td>39.395096</td>\n",
              "      <td>1.881229</td>\n",
              "      <td>32.010040</td>\n",
              "      <td>-7.461491</td>\n",
              "      <td>39.196327</td>\n",
              "      <td>-2.795338</td>\n",
              "      <td>31.773624</td>\n",
              "    </tr>\n",
              "    <tr>\n",
              "      <th>997</th>\n",
              "      <td>rock.00097.wav</td>\n",
              "      <td>661794</td>\n",
              "      <td>0.432142</td>\n",
              "      <td>0.075268</td>\n",
              "      <td>0.081651</td>\n",
              "      <td>0.000322</td>\n",
              "      <td>2077.526598</td>\n",
              "      <td>231657.968040</td>\n",
              "      <td>1927.293153</td>\n",
              "      <td>74717.124394</td>\n",
              "      <td>...</td>\n",
              "      <td>1.838090</td>\n",
              "      <td>33.597008</td>\n",
              "      <td>-12.845291</td>\n",
              "      <td>36.367264</td>\n",
              "      <td>3.440978</td>\n",
              "      <td>36.001110</td>\n",
              "      <td>-12.588070</td>\n",
              "      <td>42.502201</td>\n",
              "      <td>-2.106337</td>\n",
              "      <td>29.865515</td>\n",
              "    </tr>\n",
              "    <tr>\n",
              "      <th>998</th>\n",
              "      <td>rock.00098.wav</td>\n",
              "      <td>661794</td>\n",
              "      <td>0.362485</td>\n",
              "      <td>0.091506</td>\n",
              "      <td>0.083860</td>\n",
              "      <td>0.001211</td>\n",
              "      <td>1398.699344</td>\n",
              "      <td>240318.731073</td>\n",
              "      <td>1818.450280</td>\n",
              "      <td>109090.207161</td>\n",
              "      <td>...</td>\n",
              "      <td>-2.812176</td>\n",
              "      <td>46.324894</td>\n",
              "      <td>-4.416050</td>\n",
              "      <td>43.583942</td>\n",
              "      <td>1.556207</td>\n",
              "      <td>34.331261</td>\n",
              "      <td>-5.041897</td>\n",
              "      <td>47.227180</td>\n",
              "      <td>-3.590644</td>\n",
              "      <td>41.299088</td>\n",
              "    </tr>\n",
              "    <tr>\n",
              "      <th>999</th>\n",
              "      <td>rock.00099.wav</td>\n",
              "      <td>661794</td>\n",
              "      <td>0.358401</td>\n",
              "      <td>0.085884</td>\n",
              "      <td>0.054454</td>\n",
              "      <td>0.000336</td>\n",
              "      <td>1609.795082</td>\n",
              "      <td>422203.216152</td>\n",
              "      <td>1797.213044</td>\n",
              "      <td>120115.632927</td>\n",
              "      <td>...</td>\n",
              "      <td>1.794104</td>\n",
              "      <td>59.167755</td>\n",
              "      <td>-7.069775</td>\n",
              "      <td>73.760391</td>\n",
              "      <td>0.028346</td>\n",
              "      <td>76.504326</td>\n",
              "      <td>-2.025783</td>\n",
              "      <td>72.189316</td>\n",
              "      <td>1.155239</td>\n",
              "      <td>49.662510</td>\n",
              "    </tr>\n",
              "  </tbody>\n",
              "</table>\n",
              "<p>1000 rows × 59 columns</p>\n",
              "</div>\n",
              "      <button class=\"colab-df-convert\" onclick=\"convertToInteractive('df-4e38c5b5-845c-44a9-8a00-9b50f40146d0')\"\n",
              "              title=\"Convert this dataframe to an interactive table.\"\n",
              "              style=\"display:none;\">\n",
              "        \n",
              "  <svg xmlns=\"http://www.w3.org/2000/svg\" height=\"24px\"viewBox=\"0 0 24 24\"\n",
              "       width=\"24px\">\n",
              "    <path d=\"M0 0h24v24H0V0z\" fill=\"none\"/>\n",
              "    <path d=\"M18.56 5.44l.94 2.06.94-2.06 2.06-.94-2.06-.94-.94-2.06-.94 2.06-2.06.94zm-11 1L8.5 8.5l.94-2.06 2.06-.94-2.06-.94L8.5 2.5l-.94 2.06-2.06.94zm10 10l.94 2.06.94-2.06 2.06-.94-2.06-.94-.94-2.06-.94 2.06-2.06.94z\"/><path d=\"M17.41 7.96l-1.37-1.37c-.4-.4-.92-.59-1.43-.59-.52 0-1.04.2-1.43.59L10.3 9.45l-7.72 7.72c-.78.78-.78 2.05 0 2.83L4 21.41c.39.39.9.59 1.41.59.51 0 1.02-.2 1.41-.59l7.78-7.78 2.81-2.81c.8-.78.8-2.07 0-2.86zM5.41 20L4 18.59l7.72-7.72 1.47 1.35L5.41 20z\"/>\n",
              "  </svg>\n",
              "      </button>\n",
              "      \n",
              "  <style>\n",
              "    .colab-df-container {\n",
              "      display:flex;\n",
              "      flex-wrap:wrap;\n",
              "      gap: 12px;\n",
              "    }\n",
              "\n",
              "    .colab-df-convert {\n",
              "      background-color: #E8F0FE;\n",
              "      border: none;\n",
              "      border-radius: 50%;\n",
              "      cursor: pointer;\n",
              "      display: none;\n",
              "      fill: #1967D2;\n",
              "      height: 32px;\n",
              "      padding: 0 0 0 0;\n",
              "      width: 32px;\n",
              "    }\n",
              "\n",
              "    .colab-df-convert:hover {\n",
              "      background-color: #E2EBFA;\n",
              "      box-shadow: 0px 1px 2px rgba(60, 64, 67, 0.3), 0px 1px 3px 1px rgba(60, 64, 67, 0.15);\n",
              "      fill: #174EA6;\n",
              "    }\n",
              "\n",
              "    [theme=dark] .colab-df-convert {\n",
              "      background-color: #3B4455;\n",
              "      fill: #D2E3FC;\n",
              "    }\n",
              "\n",
              "    [theme=dark] .colab-df-convert:hover {\n",
              "      background-color: #434B5C;\n",
              "      box-shadow: 0px 1px 3px 1px rgba(0, 0, 0, 0.15);\n",
              "      filter: drop-shadow(0px 1px 2px rgba(0, 0, 0, 0.3));\n",
              "      fill: #FFFFFF;\n",
              "    }\n",
              "  </style>\n",
              "\n",
              "      <script>\n",
              "        const buttonEl =\n",
              "          document.querySelector('#df-4e38c5b5-845c-44a9-8a00-9b50f40146d0 button.colab-df-convert');\n",
              "        buttonEl.style.display =\n",
              "          google.colab.kernel.accessAllowed ? 'block' : 'none';\n",
              "\n",
              "        async function convertToInteractive(key) {\n",
              "          const element = document.querySelector('#df-4e38c5b5-845c-44a9-8a00-9b50f40146d0');\n",
              "          const dataTable =\n",
              "            await google.colab.kernel.invokeFunction('convertToInteractive',\n",
              "                                                     [key], {});\n",
              "          if (!dataTable) return;\n",
              "\n",
              "          const docLinkHtml = 'Like what you see? Visit the ' +\n",
              "            '<a target=\"_blank\" href=https://colab.research.google.com/notebooks/data_table.ipynb>data table notebook</a>'\n",
              "            + ' to learn more about interactive tables.';\n",
              "          element.innerHTML = '';\n",
              "          dataTable['output_type'] = 'display_data';\n",
              "          await google.colab.output.renderOutput(dataTable, element);\n",
              "          const docLink = document.createElement('div');\n",
              "          docLink.innerHTML = docLinkHtml;\n",
              "          element.appendChild(docLink);\n",
              "        }\n",
              "      </script>\n",
              "    </div>\n",
              "  </div>\n",
              "  "
            ]
          },
          "metadata": {},
          "execution_count": 33
        }
      ],
      "source": [
        "X = df.iloc[:, :-1]\n",
        "X"
      ]
    },
    {
      "cell_type": "code",
      "execution_count": null,
      "id": "5498e4cc",
      "metadata": {
        "id": "5498e4cc"
      },
      "outputs": [],
      "source": [
        "X = df.drop(['filename'], axis = 1)\n",
        "X = X.drop(['length'], axis = 1)\n",
        "X = X.drop(['label'], axis = 1)"
      ]
    },
    {
      "cell_type": "code",
      "execution_count": null,
      "id": "4cb8792a",
      "metadata": {
        "id": "4cb8792a"
      },
      "outputs": [],
      "source": [
        "\n",
        "classList = df.iloc[:, -1]\n",
        "convertor = LabelEncoder()\n",
        "Y = convertor.fit_transform(classList)"
      ]
    },
    {
      "cell_type": "code",
      "execution_count": null,
      "id": "89a0a0c2",
      "metadata": {
        "colab": {
          "base_uri": "https://localhost:8080/"
        },
        "id": "89a0a0c2",
        "outputId": "a4514d96-82a2-4f75-8602-0af85b48f91c"
      },
      "outputs": [
        {
          "output_type": "execute_result",
          "data": {
            "text/plain": [
              "{0: 'blues',\n",
              " 1: 'classical',\n",
              " 2: 'country',\n",
              " 3: 'disco',\n",
              " 4: 'hiphop',\n",
              " 5: 'jazz',\n",
              " 6: 'metal',\n",
              " 7: 'pop',\n",
              " 8: 'reggae',\n",
              " 9: 'rock'}"
            ]
          },
          "metadata": {},
          "execution_count": 36
        }
      ],
      "source": [
        "dict(enumerate(convertor.classes_))"
      ]
    },
    {
      "cell_type": "code",
      "execution_count": null,
      "id": "91e1d259",
      "metadata": {
        "colab": {
          "base_uri": "https://localhost:8080/",
          "height": 488
        },
        "id": "91e1d259",
        "outputId": "64b1566a-302a-4957-cc8c-aafef83832d3"
      },
      "outputs": [
        {
          "output_type": "execute_result",
          "data": {
            "text/plain": [
              "     chroma_stft_mean  chroma_stft_var  rms_mean   rms_var  \\\n",
              "0            0.350088         0.088757  0.130228  0.002827   \n",
              "1            0.340914         0.094980  0.095948  0.002373   \n",
              "2            0.363637         0.085275  0.175570  0.002746   \n",
              "3            0.404785         0.093999  0.141093  0.006346   \n",
              "4            0.308526         0.087841  0.091529  0.002303   \n",
              "..                ...              ...       ...       ...   \n",
              "995          0.352063         0.080487  0.079486  0.000345   \n",
              "996          0.398687         0.075086  0.076458  0.000588   \n",
              "997          0.432142         0.075268  0.081651  0.000322   \n",
              "998          0.362485         0.091506  0.083860  0.001211   \n",
              "999          0.358401         0.085884  0.054454  0.000336   \n",
              "\n",
              "     spectral_centroid_mean  spectral_centroid_var  spectral_bandwidth_mean  \\\n",
              "0               1784.165850          129774.064525              2002.449060   \n",
              "1               1530.176679          375850.073649              2039.036516   \n",
              "2               1552.811865          156467.643368              1747.702312   \n",
              "3               1070.106615          184355.942417              1596.412872   \n",
              "4               1835.004266          343399.939274              1748.172116   \n",
              "..                      ...                    ...                      ...   \n",
              "995             2008.149458          282174.689224              2106.541053   \n",
              "996             2006.843354          182114.709510              2068.942009   \n",
              "997             2077.526598          231657.968040              1927.293153   \n",
              "998             1398.699344          240318.731073              1818.450280   \n",
              "999             1609.795082          422203.216152              1797.213044   \n",
              "\n",
              "     spectral_bandwidth_var  rolloff_mean   rolloff_var  ...  mfcc16_mean  \\\n",
              "0              85882.761315   3805.839606  9.015054e+05  ...     0.752740   \n",
              "1             213843.755497   3550.522098  2.977893e+06  ...     0.927998   \n",
              "2              76254.192257   3042.260232  7.840345e+05  ...     2.451690   \n",
              "3             166441.494769   2184.745799  1.493194e+06  ...     0.780874   \n",
              "4              88445.209036   3579.757627  1.572978e+06  ...    -4.520576   \n",
              "..                      ...           ...           ...  ...          ...   \n",
              "995            88609.749506   4253.557033  1.222421e+06  ...     1.789867   \n",
              "996            82426.016726   4149.338328  1.046621e+06  ...     3.739020   \n",
              "997            74717.124394   4031.405321  8.042154e+05  ...     1.838090   \n",
              "998           109090.207161   3015.631004  1.332712e+06  ...    -2.812176   \n",
              "999           120115.632927   3246.908930  1.753476e+06  ...     1.794104   \n",
              "\n",
              "     mfcc16_var  mfcc17_mean  mfcc17_var  mfcc18_mean  mfcc18_var  \\\n",
              "0     52.420910    -1.690215   36.524071    -0.408979   41.597103   \n",
              "1     55.356403    -0.731125   60.314529     0.295073   48.120598   \n",
              "2     40.598766    -7.729093   47.639427    -1.816407   52.382141   \n",
              "3     44.427753    -3.319597   50.206673     0.636965   37.319130   \n",
              "4     86.099236    -5.454034   75.269707    -0.916874   53.613918   \n",
              "..          ...          ...         ...          ...         ...   \n",
              "995   45.050526   -13.289984   41.754955     2.484145   36.778877   \n",
              "996   33.851742   -10.848309   39.395096     1.881229   32.010040   \n",
              "997   33.597008   -12.845291   36.367264     3.440978   36.001110   \n",
              "998   46.324894    -4.416050   43.583942     1.556207   34.331261   \n",
              "999   59.167755    -7.069775   73.760391     0.028346   76.504326   \n",
              "\n",
              "     mfcc19_mean  mfcc19_var  mfcc20_mean  mfcc20_var  \n",
              "0      -2.303523   55.062923     1.221291   46.936035  \n",
              "1      -0.283518   51.106190     0.531217   45.786282  \n",
              "2      -3.439720   46.639660    -2.231258   30.573025  \n",
              "3      -0.619121   37.259739    -3.407448   31.949339  \n",
              "4      -4.404827   62.910812   -11.703234   55.195160  \n",
              "..           ...         ...          ...         ...  \n",
              "995    -6.713265   54.866825    -1.193787   49.950665  \n",
              "996    -7.461491   39.196327    -2.795338   31.773624  \n",
              "997   -12.588070   42.502201    -2.106337   29.865515  \n",
              "998    -5.041897   47.227180    -3.590644   41.299088  \n",
              "999    -2.025783   72.189316     1.155239   49.662510  \n",
              "\n",
              "[1000 rows x 57 columns]"
            ],
            "text/html": [
              "\n",
              "  <div id=\"df-a119efd7-1fe3-49a2-9c20-bcb5d7db0388\">\n",
              "    <div class=\"colab-df-container\">\n",
              "      <div>\n",
              "<style scoped>\n",
              "    .dataframe tbody tr th:only-of-type {\n",
              "        vertical-align: middle;\n",
              "    }\n",
              "\n",
              "    .dataframe tbody tr th {\n",
              "        vertical-align: top;\n",
              "    }\n",
              "\n",
              "    .dataframe thead th {\n",
              "        text-align: right;\n",
              "    }\n",
              "</style>\n",
              "<table border=\"1\" class=\"dataframe\">\n",
              "  <thead>\n",
              "    <tr style=\"text-align: right;\">\n",
              "      <th></th>\n",
              "      <th>chroma_stft_mean</th>\n",
              "      <th>chroma_stft_var</th>\n",
              "      <th>rms_mean</th>\n",
              "      <th>rms_var</th>\n",
              "      <th>spectral_centroid_mean</th>\n",
              "      <th>spectral_centroid_var</th>\n",
              "      <th>spectral_bandwidth_mean</th>\n",
              "      <th>spectral_bandwidth_var</th>\n",
              "      <th>rolloff_mean</th>\n",
              "      <th>rolloff_var</th>\n",
              "      <th>...</th>\n",
              "      <th>mfcc16_mean</th>\n",
              "      <th>mfcc16_var</th>\n",
              "      <th>mfcc17_mean</th>\n",
              "      <th>mfcc17_var</th>\n",
              "      <th>mfcc18_mean</th>\n",
              "      <th>mfcc18_var</th>\n",
              "      <th>mfcc19_mean</th>\n",
              "      <th>mfcc19_var</th>\n",
              "      <th>mfcc20_mean</th>\n",
              "      <th>mfcc20_var</th>\n",
              "    </tr>\n",
              "  </thead>\n",
              "  <tbody>\n",
              "    <tr>\n",
              "      <th>0</th>\n",
              "      <td>0.350088</td>\n",
              "      <td>0.088757</td>\n",
              "      <td>0.130228</td>\n",
              "      <td>0.002827</td>\n",
              "      <td>1784.165850</td>\n",
              "      <td>129774.064525</td>\n",
              "      <td>2002.449060</td>\n",
              "      <td>85882.761315</td>\n",
              "      <td>3805.839606</td>\n",
              "      <td>9.015054e+05</td>\n",
              "      <td>...</td>\n",
              "      <td>0.752740</td>\n",
              "      <td>52.420910</td>\n",
              "      <td>-1.690215</td>\n",
              "      <td>36.524071</td>\n",
              "      <td>-0.408979</td>\n",
              "      <td>41.597103</td>\n",
              "      <td>-2.303523</td>\n",
              "      <td>55.062923</td>\n",
              "      <td>1.221291</td>\n",
              "      <td>46.936035</td>\n",
              "    </tr>\n",
              "    <tr>\n",
              "      <th>1</th>\n",
              "      <td>0.340914</td>\n",
              "      <td>0.094980</td>\n",
              "      <td>0.095948</td>\n",
              "      <td>0.002373</td>\n",
              "      <td>1530.176679</td>\n",
              "      <td>375850.073649</td>\n",
              "      <td>2039.036516</td>\n",
              "      <td>213843.755497</td>\n",
              "      <td>3550.522098</td>\n",
              "      <td>2.977893e+06</td>\n",
              "      <td>...</td>\n",
              "      <td>0.927998</td>\n",
              "      <td>55.356403</td>\n",
              "      <td>-0.731125</td>\n",
              "      <td>60.314529</td>\n",
              "      <td>0.295073</td>\n",
              "      <td>48.120598</td>\n",
              "      <td>-0.283518</td>\n",
              "      <td>51.106190</td>\n",
              "      <td>0.531217</td>\n",
              "      <td>45.786282</td>\n",
              "    </tr>\n",
              "    <tr>\n",
              "      <th>2</th>\n",
              "      <td>0.363637</td>\n",
              "      <td>0.085275</td>\n",
              "      <td>0.175570</td>\n",
              "      <td>0.002746</td>\n",
              "      <td>1552.811865</td>\n",
              "      <td>156467.643368</td>\n",
              "      <td>1747.702312</td>\n",
              "      <td>76254.192257</td>\n",
              "      <td>3042.260232</td>\n",
              "      <td>7.840345e+05</td>\n",
              "      <td>...</td>\n",
              "      <td>2.451690</td>\n",
              "      <td>40.598766</td>\n",
              "      <td>-7.729093</td>\n",
              "      <td>47.639427</td>\n",
              "      <td>-1.816407</td>\n",
              "      <td>52.382141</td>\n",
              "      <td>-3.439720</td>\n",
              "      <td>46.639660</td>\n",
              "      <td>-2.231258</td>\n",
              "      <td>30.573025</td>\n",
              "    </tr>\n",
              "    <tr>\n",
              "      <th>3</th>\n",
              "      <td>0.404785</td>\n",
              "      <td>0.093999</td>\n",
              "      <td>0.141093</td>\n",
              "      <td>0.006346</td>\n",
              "      <td>1070.106615</td>\n",
              "      <td>184355.942417</td>\n",
              "      <td>1596.412872</td>\n",
              "      <td>166441.494769</td>\n",
              "      <td>2184.745799</td>\n",
              "      <td>1.493194e+06</td>\n",
              "      <td>...</td>\n",
              "      <td>0.780874</td>\n",
              "      <td>44.427753</td>\n",
              "      <td>-3.319597</td>\n",
              "      <td>50.206673</td>\n",
              "      <td>0.636965</td>\n",
              "      <td>37.319130</td>\n",
              "      <td>-0.619121</td>\n",
              "      <td>37.259739</td>\n",
              "      <td>-3.407448</td>\n",
              "      <td>31.949339</td>\n",
              "    </tr>\n",
              "    <tr>\n",
              "      <th>4</th>\n",
              "      <td>0.308526</td>\n",
              "      <td>0.087841</td>\n",
              "      <td>0.091529</td>\n",
              "      <td>0.002303</td>\n",
              "      <td>1835.004266</td>\n",
              "      <td>343399.939274</td>\n",
              "      <td>1748.172116</td>\n",
              "      <td>88445.209036</td>\n",
              "      <td>3579.757627</td>\n",
              "      <td>1.572978e+06</td>\n",
              "      <td>...</td>\n",
              "      <td>-4.520576</td>\n",
              "      <td>86.099236</td>\n",
              "      <td>-5.454034</td>\n",
              "      <td>75.269707</td>\n",
              "      <td>-0.916874</td>\n",
              "      <td>53.613918</td>\n",
              "      <td>-4.404827</td>\n",
              "      <td>62.910812</td>\n",
              "      <td>-11.703234</td>\n",
              "      <td>55.195160</td>\n",
              "    </tr>\n",
              "    <tr>\n",
              "      <th>...</th>\n",
              "      <td>...</td>\n",
              "      <td>...</td>\n",
              "      <td>...</td>\n",
              "      <td>...</td>\n",
              "      <td>...</td>\n",
              "      <td>...</td>\n",
              "      <td>...</td>\n",
              "      <td>...</td>\n",
              "      <td>...</td>\n",
              "      <td>...</td>\n",
              "      <td>...</td>\n",
              "      <td>...</td>\n",
              "      <td>...</td>\n",
              "      <td>...</td>\n",
              "      <td>...</td>\n",
              "      <td>...</td>\n",
              "      <td>...</td>\n",
              "      <td>...</td>\n",
              "      <td>...</td>\n",
              "      <td>...</td>\n",
              "      <td>...</td>\n",
              "    </tr>\n",
              "    <tr>\n",
              "      <th>995</th>\n",
              "      <td>0.352063</td>\n",
              "      <td>0.080487</td>\n",
              "      <td>0.079486</td>\n",
              "      <td>0.000345</td>\n",
              "      <td>2008.149458</td>\n",
              "      <td>282174.689224</td>\n",
              "      <td>2106.541053</td>\n",
              "      <td>88609.749506</td>\n",
              "      <td>4253.557033</td>\n",
              "      <td>1.222421e+06</td>\n",
              "      <td>...</td>\n",
              "      <td>1.789867</td>\n",
              "      <td>45.050526</td>\n",
              "      <td>-13.289984</td>\n",
              "      <td>41.754955</td>\n",
              "      <td>2.484145</td>\n",
              "      <td>36.778877</td>\n",
              "      <td>-6.713265</td>\n",
              "      <td>54.866825</td>\n",
              "      <td>-1.193787</td>\n",
              "      <td>49.950665</td>\n",
              "    </tr>\n",
              "    <tr>\n",
              "      <th>996</th>\n",
              "      <td>0.398687</td>\n",
              "      <td>0.075086</td>\n",
              "      <td>0.076458</td>\n",
              "      <td>0.000588</td>\n",
              "      <td>2006.843354</td>\n",
              "      <td>182114.709510</td>\n",
              "      <td>2068.942009</td>\n",
              "      <td>82426.016726</td>\n",
              "      <td>4149.338328</td>\n",
              "      <td>1.046621e+06</td>\n",
              "      <td>...</td>\n",
              "      <td>3.739020</td>\n",
              "      <td>33.851742</td>\n",
              "      <td>-10.848309</td>\n",
              "      <td>39.395096</td>\n",
              "      <td>1.881229</td>\n",
              "      <td>32.010040</td>\n",
              "      <td>-7.461491</td>\n",
              "      <td>39.196327</td>\n",
              "      <td>-2.795338</td>\n",
              "      <td>31.773624</td>\n",
              "    </tr>\n",
              "    <tr>\n",
              "      <th>997</th>\n",
              "      <td>0.432142</td>\n",
              "      <td>0.075268</td>\n",
              "      <td>0.081651</td>\n",
              "      <td>0.000322</td>\n",
              "      <td>2077.526598</td>\n",
              "      <td>231657.968040</td>\n",
              "      <td>1927.293153</td>\n",
              "      <td>74717.124394</td>\n",
              "      <td>4031.405321</td>\n",
              "      <td>8.042154e+05</td>\n",
              "      <td>...</td>\n",
              "      <td>1.838090</td>\n",
              "      <td>33.597008</td>\n",
              "      <td>-12.845291</td>\n",
              "      <td>36.367264</td>\n",
              "      <td>3.440978</td>\n",
              "      <td>36.001110</td>\n",
              "      <td>-12.588070</td>\n",
              "      <td>42.502201</td>\n",
              "      <td>-2.106337</td>\n",
              "      <td>29.865515</td>\n",
              "    </tr>\n",
              "    <tr>\n",
              "      <th>998</th>\n",
              "      <td>0.362485</td>\n",
              "      <td>0.091506</td>\n",
              "      <td>0.083860</td>\n",
              "      <td>0.001211</td>\n",
              "      <td>1398.699344</td>\n",
              "      <td>240318.731073</td>\n",
              "      <td>1818.450280</td>\n",
              "      <td>109090.207161</td>\n",
              "      <td>3015.631004</td>\n",
              "      <td>1.332712e+06</td>\n",
              "      <td>...</td>\n",
              "      <td>-2.812176</td>\n",
              "      <td>46.324894</td>\n",
              "      <td>-4.416050</td>\n",
              "      <td>43.583942</td>\n",
              "      <td>1.556207</td>\n",
              "      <td>34.331261</td>\n",
              "      <td>-5.041897</td>\n",
              "      <td>47.227180</td>\n",
              "      <td>-3.590644</td>\n",
              "      <td>41.299088</td>\n",
              "    </tr>\n",
              "    <tr>\n",
              "      <th>999</th>\n",
              "      <td>0.358401</td>\n",
              "      <td>0.085884</td>\n",
              "      <td>0.054454</td>\n",
              "      <td>0.000336</td>\n",
              "      <td>1609.795082</td>\n",
              "      <td>422203.216152</td>\n",
              "      <td>1797.213044</td>\n",
              "      <td>120115.632927</td>\n",
              "      <td>3246.908930</td>\n",
              "      <td>1.753476e+06</td>\n",
              "      <td>...</td>\n",
              "      <td>1.794104</td>\n",
              "      <td>59.167755</td>\n",
              "      <td>-7.069775</td>\n",
              "      <td>73.760391</td>\n",
              "      <td>0.028346</td>\n",
              "      <td>76.504326</td>\n",
              "      <td>-2.025783</td>\n",
              "      <td>72.189316</td>\n",
              "      <td>1.155239</td>\n",
              "      <td>49.662510</td>\n",
              "    </tr>\n",
              "  </tbody>\n",
              "</table>\n",
              "<p>1000 rows × 57 columns</p>\n",
              "</div>\n",
              "      <button class=\"colab-df-convert\" onclick=\"convertToInteractive('df-a119efd7-1fe3-49a2-9c20-bcb5d7db0388')\"\n",
              "              title=\"Convert this dataframe to an interactive table.\"\n",
              "              style=\"display:none;\">\n",
              "        \n",
              "  <svg xmlns=\"http://www.w3.org/2000/svg\" height=\"24px\"viewBox=\"0 0 24 24\"\n",
              "       width=\"24px\">\n",
              "    <path d=\"M0 0h24v24H0V0z\" fill=\"none\"/>\n",
              "    <path d=\"M18.56 5.44l.94 2.06.94-2.06 2.06-.94-2.06-.94-.94-2.06-.94 2.06-2.06.94zm-11 1L8.5 8.5l.94-2.06 2.06-.94-2.06-.94L8.5 2.5l-.94 2.06-2.06.94zm10 10l.94 2.06.94-2.06 2.06-.94-2.06-.94-.94-2.06-.94 2.06-2.06.94z\"/><path d=\"M17.41 7.96l-1.37-1.37c-.4-.4-.92-.59-1.43-.59-.52 0-1.04.2-1.43.59L10.3 9.45l-7.72 7.72c-.78.78-.78 2.05 0 2.83L4 21.41c.39.39.9.59 1.41.59.51 0 1.02-.2 1.41-.59l7.78-7.78 2.81-2.81c.8-.78.8-2.07 0-2.86zM5.41 20L4 18.59l7.72-7.72 1.47 1.35L5.41 20z\"/>\n",
              "  </svg>\n",
              "      </button>\n",
              "      \n",
              "  <style>\n",
              "    .colab-df-container {\n",
              "      display:flex;\n",
              "      flex-wrap:wrap;\n",
              "      gap: 12px;\n",
              "    }\n",
              "\n",
              "    .colab-df-convert {\n",
              "      background-color: #E8F0FE;\n",
              "      border: none;\n",
              "      border-radius: 50%;\n",
              "      cursor: pointer;\n",
              "      display: none;\n",
              "      fill: #1967D2;\n",
              "      height: 32px;\n",
              "      padding: 0 0 0 0;\n",
              "      width: 32px;\n",
              "    }\n",
              "\n",
              "    .colab-df-convert:hover {\n",
              "      background-color: #E2EBFA;\n",
              "      box-shadow: 0px 1px 2px rgba(60, 64, 67, 0.3), 0px 1px 3px 1px rgba(60, 64, 67, 0.15);\n",
              "      fill: #174EA6;\n",
              "    }\n",
              "\n",
              "    [theme=dark] .colab-df-convert {\n",
              "      background-color: #3B4455;\n",
              "      fill: #D2E3FC;\n",
              "    }\n",
              "\n",
              "    [theme=dark] .colab-df-convert:hover {\n",
              "      background-color: #434B5C;\n",
              "      box-shadow: 0px 1px 3px 1px rgba(0, 0, 0, 0.15);\n",
              "      filter: drop-shadow(0px 1px 2px rgba(0, 0, 0, 0.3));\n",
              "      fill: #FFFFFF;\n",
              "    }\n",
              "  </style>\n",
              "\n",
              "      <script>\n",
              "        const buttonEl =\n",
              "          document.querySelector('#df-a119efd7-1fe3-49a2-9c20-bcb5d7db0388 button.colab-df-convert');\n",
              "        buttonEl.style.display =\n",
              "          google.colab.kernel.accessAllowed ? 'block' : 'none';\n",
              "\n",
              "        async function convertToInteractive(key) {\n",
              "          const element = document.querySelector('#df-a119efd7-1fe3-49a2-9c20-bcb5d7db0388');\n",
              "          const dataTable =\n",
              "            await google.colab.kernel.invokeFunction('convertToInteractive',\n",
              "                                                     [key], {});\n",
              "          if (!dataTable) return;\n",
              "\n",
              "          const docLinkHtml = 'Like what you see? Visit the ' +\n",
              "            '<a target=\"_blank\" href=https://colab.research.google.com/notebooks/data_table.ipynb>data table notebook</a>'\n",
              "            + ' to learn more about interactive tables.';\n",
              "          element.innerHTML = '';\n",
              "          dataTable['output_type'] = 'display_data';\n",
              "          await google.colab.output.renderOutput(dataTable, element);\n",
              "          const docLink = document.createElement('div');\n",
              "          docLink.innerHTML = docLinkHtml;\n",
              "          element.appendChild(docLink);\n",
              "        }\n",
              "      </script>\n",
              "    </div>\n",
              "  </div>\n",
              "  "
            ]
          },
          "metadata": {},
          "execution_count": 37
        }
      ],
      "source": [
        "\n",
        "X"
      ]
    },
    {
      "cell_type": "code",
      "execution_count": null,
      "id": "bcbf47c5",
      "metadata": {
        "colab": {
          "base_uri": "https://localhost:8080/"
        },
        "id": "bcbf47c5",
        "outputId": "a6435e82-f6e6-4121-c189-ebc0b0d21edf"
      },
      "outputs": [
        {
          "output_type": "execute_result",
          "data": {
            "text/plain": [
              "array([0, 0, 0, 0, 0, 0, 0, 0, 0, 0, 0, 0, 0, 0, 0, 0, 0, 0, 0, 0, 0, 0,\n",
              "       0, 0, 0, 0, 0, 0, 0, 0, 0, 0, 0, 0, 0, 0, 0, 0, 0, 0, 0, 0, 0, 0,\n",
              "       0, 0, 0, 0, 0, 0, 0, 0, 0, 0, 0, 0, 0, 0, 0, 0, 0, 0, 0, 0, 0, 0,\n",
              "       0, 0, 0, 0, 0, 0, 0, 0, 0, 0, 0, 0, 0, 0, 0, 0, 0, 0, 0, 0, 0, 0,\n",
              "       0, 0, 0, 0, 0, 0, 0, 0, 0, 0, 0, 0, 1, 1, 1, 1, 1, 1, 1, 1, 1, 1,\n",
              "       1, 1, 1, 1, 1, 1, 1, 1, 1, 1, 1, 1, 1, 1, 1, 1, 1, 1, 1, 1, 1, 1,\n",
              "       1, 1, 1, 1, 1, 1, 1, 1, 1, 1, 1, 1, 1, 1, 1, 1, 1, 1, 1, 1, 1, 1,\n",
              "       1, 1, 1, 1, 1, 1, 1, 1, 1, 1, 1, 1, 1, 1, 1, 1, 1, 1, 1, 1, 1, 1,\n",
              "       1, 1, 1, 1, 1, 1, 1, 1, 1, 1, 1, 1, 1, 1, 1, 1, 1, 1, 1, 1, 1, 1,\n",
              "       1, 1, 2, 2, 2, 2, 2, 2, 2, 2, 2, 2, 2, 2, 2, 2, 2, 2, 2, 2, 2, 2,\n",
              "       2, 2, 2, 2, 2, 2, 2, 2, 2, 2, 2, 2, 2, 2, 2, 2, 2, 2, 2, 2, 2, 2,\n",
              "       2, 2, 2, 2, 2, 2, 2, 2, 2, 2, 2, 2, 2, 2, 2, 2, 2, 2, 2, 2, 2, 2,\n",
              "       2, 2, 2, 2, 2, 2, 2, 2, 2, 2, 2, 2, 2, 2, 2, 2, 2, 2, 2, 2, 2, 2,\n",
              "       2, 2, 2, 2, 2, 2, 2, 2, 2, 2, 2, 2, 2, 2, 3, 3, 3, 3, 3, 3, 3, 3,\n",
              "       3, 3, 3, 3, 3, 3, 3, 3, 3, 3, 3, 3, 3, 3, 3, 3, 3, 3, 3, 3, 3, 3,\n",
              "       3, 3, 3, 3, 3, 3, 3, 3, 3, 3, 3, 3, 3, 3, 3, 3, 3, 3, 3, 3, 3, 3,\n",
              "       3, 3, 3, 3, 3, 3, 3, 3, 3, 3, 3, 3, 3, 3, 3, 3, 3, 3, 3, 3, 3, 3,\n",
              "       3, 3, 3, 3, 3, 3, 3, 3, 3, 3, 3, 3, 3, 3, 3, 3, 3, 3, 3, 3, 3, 3,\n",
              "       3, 3, 3, 3, 4, 4, 4, 4, 4, 4, 4, 4, 4, 4, 4, 4, 4, 4, 4, 4, 4, 4,\n",
              "       4, 4, 4, 4, 4, 4, 4, 4, 4, 4, 4, 4, 4, 4, 4, 4, 4, 4, 4, 4, 4, 4,\n",
              "       4, 4, 4, 4, 4, 4, 4, 4, 4, 4, 4, 4, 4, 4, 4, 4, 4, 4, 4, 4, 4, 4,\n",
              "       4, 4, 4, 4, 4, 4, 4, 4, 4, 4, 4, 4, 4, 4, 4, 4, 4, 4, 4, 4, 4, 4,\n",
              "       4, 4, 4, 4, 4, 4, 4, 4, 4, 4, 4, 4, 4, 4, 4, 4, 5, 5, 5, 5, 5, 5,\n",
              "       5, 5, 5, 5, 5, 5, 5, 5, 5, 5, 5, 5, 5, 5, 5, 5, 5, 5, 5, 5, 5, 5,\n",
              "       5, 5, 5, 5, 5, 5, 5, 5, 5, 5, 5, 5, 5, 5, 5, 5, 5, 5, 5, 5, 5, 5,\n",
              "       5, 5, 5, 5, 5, 5, 5, 5, 5, 5, 5, 5, 5, 5, 5, 5, 5, 5, 5, 5, 5, 5,\n",
              "       5, 5, 5, 5, 5, 5, 5, 5, 5, 5, 5, 5, 5, 5, 5, 5, 5, 5, 5, 5, 5, 5,\n",
              "       5, 5, 5, 5, 5, 5, 6, 6, 6, 6, 6, 6, 6, 6, 6, 6, 6, 6, 6, 6, 6, 6,\n",
              "       6, 6, 6, 6, 6, 6, 6, 6, 6, 6, 6, 6, 6, 6, 6, 6, 6, 6, 6, 6, 6, 6,\n",
              "       6, 6, 6, 6, 6, 6, 6, 6, 6, 6, 6, 6, 6, 6, 6, 6, 6, 6, 6, 6, 6, 6,\n",
              "       6, 6, 6, 6, 6, 6, 6, 6, 6, 6, 6, 6, 6, 6, 6, 6, 6, 6, 6, 6, 6, 6,\n",
              "       6, 6, 6, 6, 6, 6, 6, 6, 6, 6, 6, 6, 6, 6, 6, 6, 6, 6, 7, 7, 7, 7,\n",
              "       7, 7, 7, 7, 7, 7, 7, 7, 7, 7, 7, 7, 7, 7, 7, 7, 7, 7, 7, 7, 7, 7,\n",
              "       7, 7, 7, 7, 7, 7, 7, 7, 7, 7, 7, 7, 7, 7, 7, 7, 7, 7, 7, 7, 7, 7,\n",
              "       7, 7, 7, 7, 7, 7, 7, 7, 7, 7, 7, 7, 7, 7, 7, 7, 7, 7, 7, 7, 7, 7,\n",
              "       7, 7, 7, 7, 7, 7, 7, 7, 7, 7, 7, 7, 7, 7, 7, 7, 7, 7, 7, 7, 7, 7,\n",
              "       7, 7, 7, 7, 7, 7, 7, 7, 8, 8, 8, 8, 8, 8, 8, 8, 8, 8, 8, 8, 8, 8,\n",
              "       8, 8, 8, 8, 8, 8, 8, 8, 8, 8, 8, 8, 8, 8, 8, 8, 8, 8, 8, 8, 8, 8,\n",
              "       8, 8, 8, 8, 8, 8, 8, 8, 8, 8, 8, 8, 8, 8, 8, 8, 8, 8, 8, 8, 8, 8,\n",
              "       8, 8, 8, 8, 8, 8, 8, 8, 8, 8, 8, 8, 8, 8, 8, 8, 8, 8, 8, 8, 8, 8,\n",
              "       8, 8, 8, 8, 8, 8, 8, 8, 8, 8, 8, 8, 8, 8, 8, 8, 8, 8, 8, 8, 9, 9,\n",
              "       9, 9, 9, 9, 9, 9, 9, 9, 9, 9, 9, 9, 9, 9, 9, 9, 9, 9, 9, 9, 9, 9,\n",
              "       9, 9, 9, 9, 9, 9, 9, 9, 9, 9, 9, 9, 9, 9, 9, 9, 9, 9, 9, 9, 9, 9,\n",
              "       9, 9, 9, 9, 9, 9, 9, 9, 9, 9, 9, 9, 9, 9, 9, 9, 9, 9, 9, 9, 9, 9,\n",
              "       9, 9, 9, 9, 9, 9, 9, 9, 9, 9, 9, 9, 9, 9, 9, 9, 9, 9, 9, 9, 9, 9,\n",
              "       9, 9, 9, 9, 9, 9, 9, 9, 9, 9])"
            ]
          },
          "metadata": {},
          "execution_count": 38
        }
      ],
      "source": [
        "Y"
      ]
    },
    {
      "cell_type": "code",
      "execution_count": null,
      "id": "5a1f6745",
      "metadata": {
        "id": "5a1f6745"
      },
      "outputs": [],
      "source": [
        "X=np.array(X)"
      ]
    },
    {
      "cell_type": "markdown",
      "id": "885d31f7",
      "metadata": {
        "id": "885d31f7"
      },
      "source": [
        "\n",
        "### Split Dataset"
      ]
    },
    {
      "cell_type": "code",
      "execution_count": null,
      "id": "e3ae96ee",
      "metadata": {
        "id": "e3ae96ee"
      },
      "outputs": [],
      "source": [
        "X_train, X_test, Y_train, Y_test = train_test_split(X,Y,test_size=0.2,random_state=20)"
      ]
    },
    {
      "cell_type": "code",
      "execution_count": null,
      "id": "54f3f33c",
      "metadata": {
        "colab": {
          "base_uri": "https://localhost:8080/"
        },
        "id": "54f3f33c",
        "outputId": "521cdf72-6545-4e15-dce5-a2ae6285b645"
      },
      "outputs": [
        {
          "output_type": "stream",
          "name": "stdout",
          "text": [
            "Training Sample :\n",
            "X = (800, 57), Y = (800,)\n",
            "\n",
            "\n",
            "Training Sample :\n",
            "X = (200, 57), Y = (200,)\n"
          ]
        }
      ],
      "source": [
        "print('Training Sample :')\n",
        "print(f'X = {X_train.shape}, Y = {Y_train.shape}')\n",
        "print(\"\\n\")\n",
        "print('Training Sample :')\n",
        "print(f'X = {X_test.shape}, Y = {Y_test.shape}')"
      ]
    },
    {
      "cell_type": "markdown",
      "id": "538733ea",
      "metadata": {
        "id": "538733ea"
      },
      "source": [
        "### Random Forest Classifier"
      ]
    },
    {
      "cell_type": "code",
      "execution_count": null,
      "id": "2a036cf7",
      "metadata": {
        "scrolled": true,
        "colab": {
          "base_uri": "https://localhost:8080/"
        },
        "id": "2a036cf7",
        "outputId": "e0459cad-827b-4d6f-a8e7-7dd68502d585"
      },
      "outputs": [
        {
          "output_type": "execute_result",
          "data": {
            "text/plain": [
              "RandomForestClassifier()"
            ]
          },
          "metadata": {},
          "execution_count": 42
        }
      ],
      "source": [
        "rf = RandomForestClassifier()\n",
        "rf.fit(X_train, Y_train)"
      ]
    },
    {
      "cell_type": "code",
      "execution_count": null,
      "id": "d1a629f7",
      "metadata": {
        "colab": {
          "base_uri": "https://localhost:8080/"
        },
        "id": "d1a629f7",
        "outputId": "b79f6e82-2f5f-418e-a0be-7cac999afd0a"
      },
      "outputs": [
        {
          "output_type": "execute_result",
          "data": {
            "text/plain": [
              "100"
            ]
          },
          "metadata": {},
          "execution_count": 43
        }
      ],
      "source": [
        "rf.n_estimators"
      ]
    },
    {
      "cell_type": "markdown",
      "id": "0f766c43",
      "metadata": {
        "id": "0f766c43"
      },
      "source": [
        "### Predictions and acccuracy"
      ]
    },
    {
      "cell_type": "code",
      "execution_count": null,
      "id": "fd589d27",
      "metadata": {
        "colab": {
          "base_uri": "https://localhost:8080/"
        },
        "id": "fd589d27",
        "outputId": "76f3679e-44a3-48b9-af86-bf5215ffdd3f"
      },
      "outputs": [
        {
          "output_type": "execute_result",
          "data": {
            "text/plain": [
              "array(['jazz', 'reggae', 'classical', 'reggae', 'hiphop', 'rock',\n",
              "       'classical', 'classical', 'reggae', 'disco', 'hiphop', 'metal',\n",
              "       'disco', 'blues', 'pop', 'jazz', 'country', 'metal', 'hiphop',\n",
              "       'disco', 'pop', 'country', 'metal', 'classical', 'jazz', 'pop',\n",
              "       'hiphop', 'hiphop', 'metal', 'pop', 'jazz', 'pop', 'hiphop',\n",
              "       'disco', 'disco', 'metal', 'reggae', 'country', 'reggae', 'disco',\n",
              "       'disco', 'country', 'reggae', 'country', 'pop', 'hiphop',\n",
              "       'classical', 'reggae', 'metal', 'classical', 'reggae', 'rock',\n",
              "       'hiphop', 'metal', 'metal', 'classical', 'metal', 'disco', 'jazz',\n",
              "       'disco', 'pop', 'rock', 'blues', 'blues', 'pop', 'pop', 'blues',\n",
              "       'pop', 'blues', 'pop', 'blues', 'pop', 'classical', 'country',\n",
              "       'metal', 'blues', 'disco', 'blues', 'blues', 'pop', 'metal',\n",
              "       'disco', 'country', 'jazz', 'hiphop', 'rock', 'blues', 'jazz',\n",
              "       'pop', 'pop', 'jazz', 'metal', 'disco', 'country', 'country',\n",
              "       'country', 'jazz', 'disco', 'rock', 'blues', 'classical', 'hiphop',\n",
              "       'blues', 'classical', 'pop', 'classical', 'blues', 'disco',\n",
              "       'reggae', 'hiphop', 'jazz', 'rock', 'pop', 'rock', 'disco',\n",
              "       'reggae', 'country', 'metal', 'country', 'disco', 'rock', 'blues',\n",
              "       'metal', 'reggae', 'blues', 'disco', 'rock', 'country', 'country',\n",
              "       'disco', 'blues', 'reggae', 'blues', 'blues', 'country', 'reggae',\n",
              "       'country', 'metal', 'hiphop', 'metal', 'pop', 'pop', 'blues',\n",
              "       'classical', 'disco', 'reggae', 'metal', 'disco', 'reggae',\n",
              "       'classical', 'reggae', 'reggae', 'reggae', 'jazz', 'country',\n",
              "       'classical', 'reggae', 'hiphop', 'rock', 'jazz', 'disco',\n",
              "       'country', 'blues', 'rock', 'disco', 'metal', 'rock', 'rock',\n",
              "       'reggae', 'metal', 'country', 'country', 'disco', 'disco',\n",
              "       'classical', 'rock', 'reggae', 'rock', 'classical', 'disco', 'pop',\n",
              "       'hiphop', 'blues', 'rock', 'blues', 'jazz', 'metal', 'reggae',\n",
              "       'metal', 'pop', 'jazz', 'blues', 'rock', 'metal', 'country',\n",
              "       'disco', 'jazz', 'disco', 'reggae', 'jazz', 'jazz', 'jazz',\n",
              "       'reggae', 'disco', 'pop', 'disco', 'jazz', 'blues', 'disco',\n",
              "       'reggae', 'blues', 'metal', 'hiphop', 'country', 'blues', 'pop',\n",
              "       'pop', 'country', 'blues', 'rock', 'jazz', 'pop', 'pop', 'jazz',\n",
              "       'disco', 'metal', 'country', 'country', 'rock', 'rock', 'hiphop',\n",
              "       'hiphop', 'metal', 'rock', 'reggae', 'classical', 'jazz', 'disco',\n",
              "       'rock', 'jazz', 'disco', 'pop', 'jazz', 'reggae', 'pop', 'blues',\n",
              "       'hiphop', 'country', 'blues', 'disco', 'blues', 'metal', 'jazz',\n",
              "       'metal', 'blues', 'metal', 'hiphop', 'classical', 'metal',\n",
              "       'classical', 'country', 'country', 'jazz', 'blues', 'blues', 'pop',\n",
              "       'jazz', 'rock', 'blues', 'classical', 'disco', 'reggae', 'pop',\n",
              "       'hiphop', 'disco', 'hiphop', 'country', 'jazz', 'hiphop', 'rock',\n",
              "       'metal', 'disco', 'blues', 'reggae', 'blues', 'hiphop', 'metal',\n",
              "       'disco', 'jazz', 'jazz', 'rock', 'reggae', 'pop', 'blues', 'disco',\n",
              "       'metal', 'metal', 'metal', 'reggae', 'classical', 'reggae',\n",
              "       'hiphop', 'country', 'country', 'jazz', 'classical', 'hiphop',\n",
              "       'classical', 'blues', 'jazz', 'reggae', 'reggae', 'classical',\n",
              "       'rock', 'disco', 'rock', 'blues', 'reggae', 'classical', 'rock',\n",
              "       'classical', 'hiphop', 'reggae', 'rock', 'rock', 'pop', 'disco',\n",
              "       'hiphop', 'reggae', 'hiphop', 'jazz', 'country', 'hiphop', 'blues',\n",
              "       'hiphop', 'disco', 'rock', 'metal', 'hiphop', 'country', 'metal',\n",
              "       'pop', 'rock', 'reggae', 'disco', 'hiphop', 'jazz', 'reggae',\n",
              "       'metal', 'disco', 'blues', 'reggae', 'rock', 'classical', 'disco',\n",
              "       'hiphop', 'country', 'disco', 'country', 'reggae', 'jazz', 'blues',\n",
              "       'blues', 'classical', 'pop', 'jazz', 'rock', 'metal', 'disco',\n",
              "       'jazz', 'pop', 'rock', 'blues', 'classical', 'metal', 'hiphop',\n",
              "       'rock', 'pop', 'metal', 'hiphop', 'disco', 'rock', 'reggae',\n",
              "       'rock', 'classical', 'rock', 'metal', 'blues', 'hiphop',\n",
              "       'classical', 'blues', 'disco', 'metal', 'pop', 'reggae', 'rock',\n",
              "       'classical', 'classical', 'reggae', 'metal', 'jazz', 'pop',\n",
              "       'metal', 'rock', 'jazz', 'blues', 'reggae', 'hiphop', 'country',\n",
              "       'rock', 'country', 'blues', 'jazz', 'metal', 'reggae', 'country',\n",
              "       'metal', 'rock', 'classical', 'classical', 'metal', 'pop',\n",
              "       'country', 'rock', 'pop', 'hiphop', 'metal', 'rock', 'classical',\n",
              "       'disco', 'rock', 'metal', 'blues', 'country', 'hiphop', 'metal',\n",
              "       'metal', 'metal', 'rock', 'reggae', 'disco', 'country', 'hiphop',\n",
              "       'pop', 'blues', 'classical', 'jazz', 'metal', 'hiphop', 'country',\n",
              "       'reggae', 'pop', 'hiphop', 'reggae', 'metal', 'pop', 'blues',\n",
              "       'hiphop', 'metal', 'disco', 'pop', 'rock', 'jazz', 'reggae',\n",
              "       'classical', 'metal', 'rock', 'hiphop', 'country', 'classical',\n",
              "       'classical', 'rock', 'hiphop', 'classical', 'metal', 'classical',\n",
              "       'metal', 'metal', 'country', 'rock', 'country', 'pop', 'disco',\n",
              "       'rock', 'classical', 'disco', 'pop', 'rock', 'hiphop', 'disco',\n",
              "       'jazz', 'classical', 'metal', 'disco', 'rock', 'jazz', 'country',\n",
              "       'disco', 'pop', 'hiphop', 'rock', 'hiphop', 'metal', 'metal',\n",
              "       'pop', 'classical', 'metal', 'country', 'disco', 'hiphop',\n",
              "       'reggae', 'metal', 'blues', 'rock', 'rock', 'blues', 'classical',\n",
              "       'hiphop', 'blues', 'hiphop', 'blues', 'classical', 'blues',\n",
              "       'blues', 'disco', 'blues', 'metal', 'blues', 'pop', 'blues',\n",
              "       'rock', 'pop', 'blues', 'country', 'metal', 'hiphop', 'blues',\n",
              "       'classical', 'disco', 'disco', 'disco', 'country', 'classical',\n",
              "       'rock', 'classical', 'rock', 'pop', 'classical', 'hiphop',\n",
              "       'reggae', 'rock', 'jazz', 'pop', 'hiphop', 'hiphop', 'metal',\n",
              "       'pop', 'pop', 'country', 'jazz', 'disco', 'country', 'country',\n",
              "       'pop', 'blues', 'blues', 'rock', 'reggae', 'disco', 'country',\n",
              "       'reggae', 'jazz', 'classical', 'classical', 'classical', 'jazz',\n",
              "       'pop', 'country', 'classical', 'disco', 'classical', 'classical',\n",
              "       'reggae', 'classical', 'rock', 'classical', 'blues', 'pop', 'pop',\n",
              "       'hiphop', 'pop', 'classical', 'blues', 'reggae', 'disco', 'metal',\n",
              "       'country', 'country', 'reggae', 'blues', 'disco', 'blues', 'metal',\n",
              "       'metal', 'blues', 'country', 'country', 'jazz', 'jazz', 'pop',\n",
              "       'classical', 'blues', 'hiphop', 'pop', 'hiphop', 'disco', 'metal',\n",
              "       'reggae', 'disco', 'blues', 'pop', 'rock', 'classical', 'disco',\n",
              "       'hiphop', 'country', 'reggae', 'disco', 'classical', 'rock',\n",
              "       'country', 'metal', 'blues', 'jazz', 'blues', 'classical', 'disco',\n",
              "       'metal', 'classical', 'reggae', 'metal', 'country', 'classical',\n",
              "       'disco', 'pop', 'metal', 'classical', 'country', 'metal', 'blues',\n",
              "       'classical', 'country', 'pop', 'classical', 'rock', 'reggae',\n",
              "       'jazz', 'jazz', 'hiphop', 'pop', 'rock', 'country', 'metal',\n",
              "       'disco', 'metal', 'classical', 'disco', 'hiphop', 'reggae',\n",
              "       'classical', 'classical', 'pop', 'reggae', 'country', 'country',\n",
              "       'pop', 'rock', 'hiphop', 'metal', 'country', 'jazz', 'rock',\n",
              "       'hiphop', 'country', 'jazz', 'metal', 'classical', 'rock', 'pop',\n",
              "       'country', 'rock', 'hiphop', 'pop', 'rock', 'reggae', 'country',\n",
              "       'pop', 'classical', 'pop', 'metal', 'reggae', 'classical', 'metal',\n",
              "       'classical', 'reggae', 'reggae', 'blues', 'reggae', 'country',\n",
              "       'metal', 'pop', 'hiphop', 'country', 'classical', 'disco', 'blues',\n",
              "       'reggae', 'jazz', 'country', 'country', 'rock', 'jazz', 'jazz',\n",
              "       'metal', 'jazz', 'metal', 'jazz', 'rock', 'jazz', 'reggae',\n",
              "       'blues', 'hiphop', 'country', 'reggae', 'rock', 'pop', 'reggae',\n",
              "       'pop', 'jazz', 'hiphop', 'hiphop', 'rock', 'jazz', 'metal',\n",
              "       'blues', 'pop', 'rock', 'blues', 'pop', 'hiphop', 'jazz',\n",
              "       'country', 'country', 'rock', 'pop', 'pop', 'country', 'reggae',\n",
              "       'hiphop', 'hiphop', 'reggae', 'reggae', 'country', 'pop', 'reggae',\n",
              "       'jazz', 'rock', 'metal', 'country', 'blues', 'country', 'hiphop',\n",
              "       'pop', 'reggae', 'metal', 'classical', 'classical', 'rock', 'pop',\n",
              "       'pop', 'pop', 'rock', 'pop', 'pop', 'rock', 'hiphop', 'jazz',\n",
              "       'classical', 'classical', 'jazz', 'pop', 'reggae', 'hiphop',\n",
              "       'disco', 'country', 'rock', 'country', 'country', 'hiphop',\n",
              "       'disco'], dtype=object)"
            ]
          },
          "metadata": {},
          "execution_count": 44
        }
      ],
      "source": [
        "predict_train = rf.predict(X_train)\n",
        "convertor.inverse_transform(predict_train)"
      ]
    },
    {
      "cell_type": "code",
      "execution_count": null,
      "id": "869c2a33",
      "metadata": {
        "id": "869c2a33",
        "colab": {
          "base_uri": "https://localhost:8080/"
        },
        "outputId": "dc673222-b33b-4b31-cfff-8ebd3e260ac9"
      },
      "outputs": [
        {
          "output_type": "execute_result",
          "data": {
            "text/plain": [
              "0.99875"
            ]
          },
          "metadata": {},
          "execution_count": 45
        }
      ],
      "source": [
        "accuracy_train = accuracy_score(Y_train,predict_train)\n",
        "accuracy_train"
      ]
    },
    {
      "cell_type": "code",
      "execution_count": null,
      "id": "762a38f4",
      "metadata": {
        "colab": {
          "base_uri": "https://localhost:8080/"
        },
        "id": "762a38f4",
        "outputId": "341f8cc2-6294-4ee5-f2dd-b2ad5ffc0076"
      },
      "outputs": [
        {
          "output_type": "execute_result",
          "data": {
            "text/plain": [
              "array(['hiphop', 'disco', 'pop', 'classical', 'reggae', 'hiphop', 'disco',\n",
              "       'classical', 'reggae', 'hiphop', 'pop', 'jazz', 'jazz', 'jazz',\n",
              "       'hiphop', 'blues', 'blues', 'blues', 'disco', 'blues', 'metal',\n",
              "       'pop', 'classical', 'reggae', 'disco', 'hiphop', 'jazz', 'hiphop',\n",
              "       'classical', 'pop', 'classical', 'country', 'jazz', 'jazz',\n",
              "       'disco', 'rock', 'blues', 'reggae', 'reggae', 'metal', 'disco',\n",
              "       'classical', 'jazz', 'country', 'hiphop', 'country', 'pop',\n",
              "       'disco', 'metal', 'metal', 'pop', 'hiphop', 'reggae', 'country',\n",
              "       'jazz', 'country', 'metal', 'classical', 'hiphop', 'blues', 'rock',\n",
              "       'jazz', 'disco', 'hiphop', 'jazz', 'pop', 'pop', 'jazz', 'metal',\n",
              "       'country', 'disco', 'reggae', 'metal', 'metal', 'metal', 'hiphop',\n",
              "       'pop', 'disco', 'jazz', 'blues', 'jazz', 'rock', 'pop', 'hiphop',\n",
              "       'blues', 'reggae', 'country', 'rock', 'classical', 'classical',\n",
              "       'reggae', 'classical', 'country', 'jazz', 'classical', 'classical',\n",
              "       'pop', 'country', 'disco', 'jazz', 'jazz', 'classical', 'reggae',\n",
              "       'metal', 'jazz', 'classical', 'disco', 'reggae', 'reggae', 'pop',\n",
              "       'jazz', 'rock', 'reggae', 'hiphop', 'reggae', 'reggae', 'reggae',\n",
              "       'hiphop', 'jazz', 'classical', 'country', 'metal', 'country',\n",
              "       'pop', 'reggae', 'blues', 'jazz', 'disco', 'hiphop', 'jazz',\n",
              "       'blues', 'classical', 'rock', 'jazz', 'country', 'reggae', 'metal',\n",
              "       'reggae', 'country', 'jazz', 'country', 'hiphop', 'hiphop',\n",
              "       'metal', 'hiphop', 'disco', 'pop', 'hiphop', 'pop', 'disco',\n",
              "       'rock', 'jazz', 'rock', 'disco', 'reggae', 'classical', 'disco',\n",
              "       'metal', 'disco', 'disco', 'classical', 'country', 'classical',\n",
              "       'rock', 'disco', 'rock', 'jazz', 'pop', 'jazz', 'reggae', 'blues',\n",
              "       'disco', 'jazz', 'hiphop', 'metal', 'hiphop', 'blues', 'country',\n",
              "       'classical', 'blues', 'reggae', 'rock', 'blues', 'reggae', 'blues',\n",
              "       'metal', 'country', 'disco', 'blues', 'classical', 'classical',\n",
              "       'metal', 'jazz', 'pop', 'hiphop', 'classical', 'country', 'jazz',\n",
              "       'jazz', 'country'], dtype=object)"
            ]
          },
          "metadata": {},
          "execution_count": 46
        }
      ],
      "source": [
        "predict_test = rf.predict(X_test)\n",
        "convertor.inverse_transform(predict_test)"
      ]
    },
    {
      "cell_type": "code",
      "execution_count": null,
      "id": "ba0d99d8",
      "metadata": {
        "colab": {
          "base_uri": "https://localhost:8080/"
        },
        "id": "ba0d99d8",
        "outputId": "7769ef8c-ff70-4ebc-a4d6-691f1d30dccd"
      },
      "outputs": [
        {
          "output_type": "execute_result",
          "data": {
            "text/plain": [
              "0.675"
            ]
          },
          "metadata": {},
          "execution_count": 47
        }
      ],
      "source": [
        "accuracy_test = accuracy_score(Y_test,predict_test)\n",
        "accuracy_test"
      ]
    },
    {
      "cell_type": "markdown",
      "id": "c9cbd9de",
      "metadata": {
        "id": "c9cbd9de"
      },
      "source": [
        "### Conclusions"
      ]
    },
    {
      "cell_type": "code",
      "execution_count": null,
      "id": "f2d9af1b",
      "metadata": {
        "colab": {
          "base_uri": "https://localhost:8080/"
        },
        "id": "f2d9af1b",
        "outputId": "b5e5e304-9465-4046-f3e7-7421f37fa2f0"
      },
      "outputs": [
        {
          "output_type": "execute_result",
          "data": {
            "text/plain": [
              "array([[13,  0,  2,  0,  0,  2,  0,  0,  2,  1],\n",
              "       [ 0, 18,  0,  0,  0,  1,  0,  0,  0,  0],\n",
              "       [ 0,  0, 11,  1,  0,  0,  1,  2,  0,  1],\n",
              "       [ 0,  0,  2, 14,  2,  0,  1,  0,  1,  2],\n",
              "       [ 0,  0,  0,  1, 15,  0,  1,  2,  6,  0],\n",
              "       [ 1,  5,  0,  0,  0, 26,  1,  0,  0,  0],\n",
              "       [ 0,  0,  0,  2,  0,  0, 10,  0,  1,  0],\n",
              "       [ 0,  0,  0,  1,  0,  0,  0, 12,  0,  1],\n",
              "       [ 1,  0,  2,  0,  4,  0,  0,  1, 12,  2],\n",
              "       [ 1,  0,  2,  3,  1,  1,  3,  0,  1,  4]])"
            ]
          },
          "metadata": {},
          "execution_count": 48
        }
      ],
      "source": [
        "cm = confusion_matrix(Y_test,predict_test)\n",
        "cm"
      ]
    },
    {
      "cell_type": "code",
      "execution_count": null,
      "id": "48e0689f",
      "metadata": {
        "colab": {
          "base_uri": "https://localhost:8080/",
          "height": 459
        },
        "id": "48e0689f",
        "outputId": "94ed4353-5f79-42ba-e482-abe97adfa92a"
      },
      "outputs": [
        {
          "output_type": "execute_result",
          "data": {
            "text/plain": [
              "Text(69.0, 0.5, 'Actual Values')"
            ]
          },
          "metadata": {},
          "execution_count": 49
        },
        {
          "output_type": "display_data",
          "data": {
            "text/plain": [
              "<Figure size 720x504 with 2 Axes>"
            ],
            "image/png": "[encoded data removed]"
          },
          "metadata": {
            "needs_background": "light"
          }
        }
      ],
      "source": [
        "%matplotlib inline\n",
        "plt.figure(figsize=(10,7))\n",
        "sn.heatmap(cm,annot=True,cmap=\"Wistia\",xticklabels=['AFIB','GSVT','SA','SB','SR'],yticklabels=['AFIB','GSVT','SA','SB','SR'])\n",
        "plt.xlabel('Predicted Values')\n",
        "plt.ylabel('Actual Values')"
      ]
    },
    {
      "cell_type": "code",
      "execution_count": null,
      "id": "48b27382",
      "metadata": {
        "id": "48b27382"
      },
      "outputs": [],
      "source": []
    }
  ],
  "metadata": {
    "kernelspec": {
      "display_name": "Python 3 (ipykernel)",
      "language": "python",
      "name": "python3"
    },
    "language_info": {
      "codemirror_mode": {
        "name": "ipython",
        "version": 3
      },
      "file_extension": ".py",
      "mimetype": "text/x-python",
      "name": "python",
      "nbconvert_exporter": "python",
      "pygments_lexer": "ipython3",
      "version": "3.8.8"
    },
    "colab": {
      "provenance": [],
      "include_colab_link": true
    }
  },
  "nbformat": 4,
  "nbformat_minor": 5
}