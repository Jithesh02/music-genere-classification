{
  "cells": [
    {
      "cell_type": "markdown",
      "metadata": {
        "id": "view-in-github",
        "colab_type": "text"
      },
      "source": [
        "<a href=\"https://colab.research.google.com/github/Jithesh02/music-genere-classification/blob/main/CNN.ipynb\" target=\"_parent\"><img src=\"https://colab.research.google.com/assets/colab-badge.svg\" alt=\"Open In Colab\"/></a>"
      ]
    },
    {
      "cell_type": "code",
      "execution_count": null,
      "id": "cf9f914e",
      "metadata": {
        "id": "cf9f914e"
      },
      "outputs": [],
      "source": [
        "import os\n",
        "import librosa\n",
        "import numpy as np\n",
        "import pandas as pd\n",
        "from librosa import feature\n",
        "import librosa.display as lplt\n",
        "from sklearn.preprocessing import StandardScaler\n",
        "from sklearn.model_selection import train_test_split\n",
        "from sklearn.metrics import accuracy_score, f1_score, classification_report, confusion_matrix\n",
        "\n",
        "from tensorflow import keras\n",
        "from keras.layers import Dense, Conv2D, MaxPooling2D, Flatten, Dropout, AveragePooling2D\n",
        "from keras.models import Sequential\n",
        "from tensorflow.keras.utils import to_categorical"
      ]
    },
    {
      "cell_type": "code",
      "source": [
        "from google.colab import drive\n",
        "drive.mount('/content/drive')"
      ],
      "metadata": {
        "colab": {
          "base_uri": "https://localhost:8080/"
        },
        "id": "330f2kR51BOC",
        "outputId": "f2a8eadf-1775-4d22-c13d-0a860c002a20"
      },
      "id": "330f2kR51BOC",
      "execution_count": null,
      "outputs": [
        {
          "output_type": "stream",
          "name": "stdout",
          "text": [
            "Mounted at /content/drive\n"
          ]
        }
      ]
    },
    {
      "cell_type": "code",
      "execution_count": null,
      "id": "e3652000",
      "metadata": {
        "colab": {
          "base_uri": "https://localhost:8080/",
          "height": 467
        },
        "id": "e3652000",
        "outputId": "d67e4ccc-f510-4238-c31c-d62cb37d81d3"
      },
      "outputs": [
        {
          "output_type": "stream",
          "name": "stderr",
          "text": [
            "/usr/local/lib/python3.8/dist-packages/librosa/core/audio.py:165: UserWarning: PySoundFile failed. Trying audioread instead.\n",
            "  warnings.warn(\"PySoundFile failed. Trying audioread instead.\")\n"
          ]
        },
        {
          "output_type": "error",
          "ename": "FileNotFoundError",
          "evalue": "ignored",
          "traceback": [
            "\u001b[0;31m---------------------------------------------------------------------------\u001b[0m",
            "\u001b[0;31mLibsndfileError\u001b[0m                           Traceback (most recent call last)",
            "\u001b[0;32m/usr/local/lib/python3.8/dist-packages/librosa/core/audio.py\u001b[0m in \u001b[0;36mload\u001b[0;34m(path, sr, mono, offset, duration, dtype, res_type)\u001b[0m\n\u001b[1;32m    148\u001b[0m     \u001b[0;32mtry\u001b[0m\u001b[0;34m:\u001b[0m\u001b[0;34m\u001b[0m\u001b[0;34m\u001b[0m\u001b[0m\n\u001b[0;32m--> 149\u001b[0;31m         \u001b[0;32mwith\u001b[0m \u001b[0msf\u001b[0m\u001b[0;34m.\u001b[0m\u001b[0mSoundFile\u001b[0m\u001b[0;34m(\u001b[0m\u001b[0mpath\u001b[0m\u001b[0;34m)\u001b[0m \u001b[0;32mas\u001b[0m \u001b[0msf_desc\u001b[0m\u001b[0;34m:\u001b[0m\u001b[0;34m\u001b[0m\u001b[0;34m\u001b[0m\u001b[0m\n\u001b[0m\u001b[1;32m    150\u001b[0m             \u001b[0msr_native\u001b[0m \u001b[0;34m=\u001b[0m \u001b[0msf_desc\u001b[0m\u001b[0;34m.\u001b[0m\u001b[0msamplerate\u001b[0m\u001b[0;34m\u001b[0m\u001b[0;34m\u001b[0m\u001b[0m\n",
            "\u001b[0;32m/usr/local/lib/python3.8/dist-packages/soundfile.py\u001b[0m in \u001b[0;36m__init__\u001b[0;34m(self, file, mode, samplerate, channels, subtype, endian, format, closefd)\u001b[0m\n\u001b[1;32m    654\u001b[0m                                          format, subtype, endian)\n\u001b[0;32m--> 655\u001b[0;31m         \u001b[0mself\u001b[0m\u001b[0;34m.\u001b[0m\u001b[0m_file\u001b[0m \u001b[0;34m=\u001b[0m \u001b[0mself\u001b[0m\u001b[0;34m.\u001b[0m\u001b[0m_open\u001b[0m\u001b[0;34m(\u001b[0m\u001b[0mfile\u001b[0m\u001b[0;34m,\u001b[0m \u001b[0mmode_int\u001b[0m\u001b[0;34m,\u001b[0m \u001b[0mclosefd\u001b[0m\u001b[0;34m)\u001b[0m\u001b[0;34m\u001b[0m\u001b[0;34m\u001b[0m\u001b[0m\n\u001b[0m\u001b[1;32m    656\u001b[0m         \u001b[0;32mif\u001b[0m \u001b[0mset\u001b[0m\u001b[0;34m(\u001b[0m\u001b[0mmode\u001b[0m\u001b[0;34m)\u001b[0m\u001b[0;34m.\u001b[0m\u001b[0missuperset\u001b[0m\u001b[0;34m(\u001b[0m\u001b[0;34m'r+'\u001b[0m\u001b[0;34m)\u001b[0m \u001b[0;32mand\u001b[0m \u001b[0mself\u001b[0m\u001b[0;34m.\u001b[0m\u001b[0mseekable\u001b[0m\u001b[0;34m(\u001b[0m\u001b[0;34m)\u001b[0m\u001b[0;34m:\u001b[0m\u001b[0;34m\u001b[0m\u001b[0;34m\u001b[0m\u001b[0m\n",
            "\u001b[0;32m/usr/local/lib/python3.8/dist-packages/soundfile.py\u001b[0m in \u001b[0;36m_open\u001b[0;34m(self, file, mode_int, closefd)\u001b[0m\n\u001b[1;32m   1212\u001b[0m             \u001b[0merr\u001b[0m \u001b[0;34m=\u001b[0m \u001b[0m_snd\u001b[0m\u001b[0;34m.\u001b[0m\u001b[0msf_error\u001b[0m\u001b[0;34m(\u001b[0m\u001b[0mfile_ptr\u001b[0m\u001b[0;34m)\u001b[0m\u001b[0;34m\u001b[0m\u001b[0;34m\u001b[0m\u001b[0m\n\u001b[0;32m-> 1213\u001b[0;31m             \u001b[0;32mraise\u001b[0m \u001b[0mLibsndfileError\u001b[0m\u001b[0;34m(\u001b[0m\u001b[0merr\u001b[0m\u001b[0;34m,\u001b[0m \u001b[0mprefix\u001b[0m\u001b[0;34m=\u001b[0m\u001b[0;34m\"Error opening {0!r}: \"\u001b[0m\u001b[0;34m.\u001b[0m\u001b[0mformat\u001b[0m\u001b[0;34m(\u001b[0m\u001b[0mself\u001b[0m\u001b[0;34m.\u001b[0m\u001b[0mname\u001b[0m\u001b[0;34m)\u001b[0m\u001b[0;34m)\u001b[0m\u001b[0;34m\u001b[0m\u001b[0;34m\u001b[0m\u001b[0m\n\u001b[0m\u001b[1;32m   1214\u001b[0m         \u001b[0;32mif\u001b[0m \u001b[0mmode_int\u001b[0m \u001b[0;34m==\u001b[0m \u001b[0m_snd\u001b[0m\u001b[0;34m.\u001b[0m\u001b[0mSFM_WRITE\u001b[0m\u001b[0;34m:\u001b[0m\u001b[0;34m\u001b[0m\u001b[0;34m\u001b[0m\u001b[0m\n",
            "\u001b[0;31mLibsndfileError\u001b[0m: Error opening '/content/drive/MyDrive/genres_original/disco/disco.0000.wav': System error.",
            "\nDuring handling of the above exception, another exception occurred:\n",
            "\u001b[0;31mFileNotFoundError\u001b[0m                         Traceback (most recent call last)",
            "\u001b[0;32m<ipython-input-4-ba50d2add3a6>\u001b[0m in \u001b[0;36m<module>\u001b[0;34m\u001b[0m\n\u001b[1;32m      1\u001b[0m \u001b[0maudio_path\u001b[0m \u001b[0;34m=\u001b[0m \u001b[0;34m'/content/drive/MyDrive/genres_original/disco/disco.0000.wav'\u001b[0m\u001b[0;34m\u001b[0m\u001b[0;34m\u001b[0m\u001b[0m\n\u001b[0;32m----> 2\u001b[0;31m \u001b[0my\u001b[0m\u001b[0;34m,\u001b[0m \u001b[0msr\u001b[0m \u001b[0;34m=\u001b[0m \u001b[0mlibrosa\u001b[0m\u001b[0;34m.\u001b[0m\u001b[0mload\u001b[0m\u001b[0;34m(\u001b[0m\u001b[0maudio_path\u001b[0m\u001b[0;34m)\u001b[0m\u001b[0;34m\u001b[0m\u001b[0;34m\u001b[0m\u001b[0m\n\u001b[0m\u001b[1;32m      3\u001b[0m \u001b[0mspect\u001b[0m \u001b[0;34m=\u001b[0m \u001b[0mfeature\u001b[0m\u001b[0;34m.\u001b[0m\u001b[0mmelspectrogram\u001b[0m\u001b[0;34m(\u001b[0m\u001b[0my\u001b[0m\u001b[0;34m=\u001b[0m\u001b[0my\u001b[0m\u001b[0;34m,\u001b[0m \u001b[0mhop_length\u001b[0m\u001b[0;34m=\u001b[0m\u001b[0;36m1024\u001b[0m\u001b[0;34m)\u001b[0m\u001b[0;34m\u001b[0m\u001b[0;34m\u001b[0m\u001b[0m\n\u001b[1;32m      4\u001b[0m \u001b[0mmel_spect\u001b[0m \u001b[0;34m=\u001b[0m \u001b[0mlibrosa\u001b[0m\u001b[0;34m.\u001b[0m\u001b[0mpower_to_db\u001b[0m\u001b[0;34m(\u001b[0m\u001b[0mspect\u001b[0m\u001b[0;34m,\u001b[0m \u001b[0mref\u001b[0m\u001b[0;34m=\u001b[0m\u001b[0mnp\u001b[0m\u001b[0;34m.\u001b[0m\u001b[0mmax\u001b[0m\u001b[0;34m)\u001b[0m\u001b[0;34m\u001b[0m\u001b[0;34m\u001b[0m\u001b[0m\n\u001b[1;32m      5\u001b[0m \u001b[0mlibrosa\u001b[0m\u001b[0;34m.\u001b[0m\u001b[0mdisplay\u001b[0m\u001b[0;34m.\u001b[0m\u001b[0mspecshow\u001b[0m\u001b[0;34m(\u001b[0m\u001b[0mmel_spect\u001b[0m\u001b[0;34m,\u001b[0m \u001b[0my_axis\u001b[0m\u001b[0;34m=\u001b[0m\u001b[0;34m'mel'\u001b[0m\u001b[0;34m,\u001b[0m \u001b[0mfmax\u001b[0m\u001b[0;34m=\u001b[0m\u001b[0;36m8000\u001b[0m\u001b[0;34m,\u001b[0m \u001b[0mx_axis\u001b[0m\u001b[0;34m=\u001b[0m\u001b[0;34m'time'\u001b[0m\u001b[0;34m)\u001b[0m\u001b[0;34m;\u001b[0m\u001b[0;34m\u001b[0m\u001b[0;34m\u001b[0m\u001b[0m\n",
            "\u001b[0;32m/usr/local/lib/python3.8/dist-packages/librosa/core/audio.py\u001b[0m in \u001b[0;36mload\u001b[0;34m(path, sr, mono, offset, duration, dtype, res_type)\u001b[0m\n\u001b[1;32m    164\u001b[0m         \u001b[0;32mif\u001b[0m \u001b[0misinstance\u001b[0m\u001b[0;34m(\u001b[0m\u001b[0mpath\u001b[0m\u001b[0;34m,\u001b[0m \u001b[0;34m(\u001b[0m\u001b[0mstr\u001b[0m\u001b[0;34m,\u001b[0m \u001b[0mpathlib\u001b[0m\u001b[0;34m.\u001b[0m\u001b[0mPurePath\u001b[0m\u001b[0;34m)\u001b[0m\u001b[0;34m)\u001b[0m\u001b[0;34m:\u001b[0m\u001b[0;34m\u001b[0m\u001b[0;34m\u001b[0m\u001b[0m\n\u001b[1;32m    165\u001b[0m             \u001b[0mwarnings\u001b[0m\u001b[0;34m.\u001b[0m\u001b[0mwarn\u001b[0m\u001b[0;34m(\u001b[0m\u001b[0;34m\"PySoundFile failed. Trying audioread instead.\"\u001b[0m\u001b[0;34m)\u001b[0m\u001b[0;34m\u001b[0m\u001b[0;34m\u001b[0m\u001b[0m\n\u001b[0;32m--> 166\u001b[0;31m             \u001b[0my\u001b[0m\u001b[0;34m,\u001b[0m \u001b[0msr_native\u001b[0m \u001b[0;34m=\u001b[0m \u001b[0m__audioread_load\u001b[0m\u001b[0;34m(\u001b[0m\u001b[0mpath\u001b[0m\u001b[0;34m,\u001b[0m \u001b[0moffset\u001b[0m\u001b[0;34m,\u001b[0m \u001b[0mduration\u001b[0m\u001b[0;34m,\u001b[0m \u001b[0mdtype\u001b[0m\u001b[0;34m)\u001b[0m\u001b[0;34m\u001b[0m\u001b[0;34m\u001b[0m\u001b[0m\n\u001b[0m\u001b[1;32m    167\u001b[0m         \u001b[0;32melse\u001b[0m\u001b[0;34m:\u001b[0m\u001b[0;34m\u001b[0m\u001b[0;34m\u001b[0m\u001b[0m\n\u001b[1;32m    168\u001b[0m             \u001b[0;32mraise\u001b[0m \u001b[0;34m(\u001b[0m\u001b[0mexc\u001b[0m\u001b[0;34m)\u001b[0m\u001b[0;34m\u001b[0m\u001b[0;34m\u001b[0m\u001b[0m\n",
            "\u001b[0;32m/usr/local/lib/python3.8/dist-packages/librosa/core/audio.py\u001b[0m in \u001b[0;36m__audioread_load\u001b[0;34m(path, offset, duration, dtype)\u001b[0m\n\u001b[1;32m    188\u001b[0m \u001b[0;34m\u001b[0m\u001b[0m\n\u001b[1;32m    189\u001b[0m     \u001b[0my\u001b[0m \u001b[0;34m=\u001b[0m \u001b[0;34m[\u001b[0m\u001b[0;34m]\u001b[0m\u001b[0;34m\u001b[0m\u001b[0;34m\u001b[0m\u001b[0m\n\u001b[0;32m--> 190\u001b[0;31m     \u001b[0;32mwith\u001b[0m \u001b[0maudioread\u001b[0m\u001b[0;34m.\u001b[0m\u001b[0maudio_open\u001b[0m\u001b[0;34m(\u001b[0m\u001b[0mpath\u001b[0m\u001b[0;34m)\u001b[0m \u001b[0;32mas\u001b[0m \u001b[0minput_file\u001b[0m\u001b[0;34m:\u001b[0m\u001b[0;34m\u001b[0m\u001b[0;34m\u001b[0m\u001b[0m\n\u001b[0m\u001b[1;32m    191\u001b[0m         \u001b[0msr_native\u001b[0m \u001b[0;34m=\u001b[0m \u001b[0minput_file\u001b[0m\u001b[0;34m.\u001b[0m\u001b[0msamplerate\u001b[0m\u001b[0;34m\u001b[0m\u001b[0;34m\u001b[0m\u001b[0m\n\u001b[1;32m    192\u001b[0m         \u001b[0mn_channels\u001b[0m \u001b[0;34m=\u001b[0m \u001b[0minput_file\u001b[0m\u001b[0;34m.\u001b[0m\u001b[0mchannels\u001b[0m\u001b[0;34m\u001b[0m\u001b[0;34m\u001b[0m\u001b[0m\n",
            "\u001b[0;32m/usr/local/lib/python3.8/dist-packages/audioread/__init__.py\u001b[0m in \u001b[0;36maudio_open\u001b[0;34m(path, backends)\u001b[0m\n\u001b[1;32m    125\u001b[0m     \u001b[0;32mfor\u001b[0m \u001b[0mBackendClass\u001b[0m \u001b[0;32min\u001b[0m \u001b[0mbackends\u001b[0m\u001b[0;34m:\u001b[0m\u001b[0;34m\u001b[0m\u001b[0;34m\u001b[0m\u001b[0m\n\u001b[1;32m    126\u001b[0m         \u001b[0;32mtry\u001b[0m\u001b[0;34m:\u001b[0m\u001b[0;34m\u001b[0m\u001b[0;34m\u001b[0m\u001b[0m\n\u001b[0;32m--> 127\u001b[0;31m             \u001b[0;32mreturn\u001b[0m \u001b[0mBackendClass\u001b[0m\u001b[0;34m(\u001b[0m\u001b[0mpath\u001b[0m\u001b[0;34m)\u001b[0m\u001b[0;34m\u001b[0m\u001b[0;34m\u001b[0m\u001b[0m\n\u001b[0m\u001b[1;32m    128\u001b[0m         \u001b[0;32mexcept\u001b[0m \u001b[0mDecodeError\u001b[0m\u001b[0;34m:\u001b[0m\u001b[0;34m\u001b[0m\u001b[0;34m\u001b[0m\u001b[0m\n\u001b[1;32m    129\u001b[0m             \u001b[0;32mpass\u001b[0m\u001b[0;34m\u001b[0m\u001b[0;34m\u001b[0m\u001b[0m\n",
            "\u001b[0;32m/usr/local/lib/python3.8/dist-packages/audioread/rawread.py\u001b[0m in \u001b[0;36m__init__\u001b[0;34m(self, filename)\u001b[0m\n\u001b[1;32m     57\u001b[0m     \"\"\"\n\u001b[1;32m     58\u001b[0m     \u001b[0;32mdef\u001b[0m \u001b[0m__init__\u001b[0m\u001b[0;34m(\u001b[0m\u001b[0mself\u001b[0m\u001b[0;34m,\u001b[0m \u001b[0mfilename\u001b[0m\u001b[0;34m)\u001b[0m\u001b[0;34m:\u001b[0m\u001b[0;34m\u001b[0m\u001b[0;34m\u001b[0m\u001b[0m\n\u001b[0;32m---> 59\u001b[0;31m         \u001b[0mself\u001b[0m\u001b[0;34m.\u001b[0m\u001b[0m_fh\u001b[0m \u001b[0;34m=\u001b[0m \u001b[0mopen\u001b[0m\u001b[0;34m(\u001b[0m\u001b[0mfilename\u001b[0m\u001b[0;34m,\u001b[0m \u001b[0;34m'rb'\u001b[0m\u001b[0;34m)\u001b[0m\u001b[0;34m\u001b[0m\u001b[0;34m\u001b[0m\u001b[0m\n\u001b[0m\u001b[1;32m     60\u001b[0m \u001b[0;34m\u001b[0m\u001b[0m\n\u001b[1;32m     61\u001b[0m         \u001b[0;32mtry\u001b[0m\u001b[0;34m:\u001b[0m\u001b[0;34m\u001b[0m\u001b[0;34m\u001b[0m\u001b[0m\n",
            "\u001b[0;31mFileNotFoundError\u001b[0m: [Errno 2] No such file or directory: '/content/drive/MyDrive/genres_original/disco/disco.0000.wav'"
          ]
        }
      ],
      "source": [
        "audio_path = '/content/drive/MyDrive/genres_original/disco/disco.0000.wav'\n",
        "y, sr = librosa.load(audio_path)\n",
        "spect = feature.melspectrogram(y=y, hop_length=1024)\n",
        "mel_spect = librosa.power_to_db(spect, ref=np.max)\n",
        "librosa.display.specshow(mel_spect, y_axis='mel', fmax=8000, x_axis='time');"
      ]
    },
    {
      "cell_type": "code",
      "execution_count": null,
      "id": "ae2f96cd",
      "metadata": {
        "id": "ae2f96cd"
      },
      "outputs": [],
      "source": [
        "fit = StandardScaler()\n",
        "\n",
        "def audio_features(file_path):\n",
        "    y, sr = librosa.load(file_path)\n",
        "    mel_spect = feature.melspectrogram(y=y, hop_length=1024)\n",
        "    mel_spect = librosa.power_to_db(mel_spect, ref=np.max)\n",
        "    \n",
        "    if(mel_spect.shape[1] > 645):\n",
        "        mel_spect = mel_spect[:, :645]\n",
        "    \n",
        "    # Scaling the features\n",
        "    mel_scaled = fit.fit_transform(mel_spect)    \n",
        "    \n",
        "    # Shape the data\n",
        "    mel_shaped = np.reshape(mel_scaled, (mel_spect.shape[0], mel_spect.shape[1], 1))\n",
        "    return mel_shaped"
      ]
    },
    {
      "cell_type": "code",
      "execution_count": null,
      "id": "abd8539a",
      "metadata": {
        "id": "abd8539a"
      },
      "outputs": [],
      "source": [
        "map_target = {\n",
        "    'blues': 0, 'classical': 1, 'country': 2, 'disco': 3, 'hiphop': 4, 'jazz': 5, 'metal': 6,\n",
        "    'pop': 7, 'reggae': 8, 'rock': 9\n",
        "}"
      ]
    },
    {
      "cell_type": "code",
      "execution_count": null,
      "id": "86d1d209",
      "metadata": {
        "id": "86d1d209"
      },
      "outputs": [],
      "source": [
        "target = []\n",
        "features = []\n",
        "\n",
        "root_dir = os.path.join(os.path.abspath(os.path.join(os.getcwd(), os.pardir)), \"genres_original\")\n",
        "genres = os.listdir(root_dir)\n",
        "\n",
        "for genre in genres:\n",
        "    path = os.path.join(root_dir, genre)\n",
        "    print(f'Reading {genre} Genre...')\n",
        "    \n",
        "    # Get list of files for a genre\n",
        "    files = os.listdir(path)\n",
        "    for file in files:\n",
        "        file_path = os.path.join(path, file)\n",
        "        try:\n",
        "            data = audio_features(file_path)\n",
        "            features.append(data)\n",
        "            target.append(map_target[genre])\n",
        "        except:\n",
        "            pass"
      ]
    },
    {
      "cell_type": "code",
      "execution_count": null,
      "id": "525802be",
      "metadata": {
        "id": "525802be"
      },
      "outputs": [],
      "source": []
    },
    {
      "cell_type": "code",
      "execution_count": null,
      "id": "cd3727bc",
      "metadata": {
        "id": "cd3727bc"
      },
      "outputs": [],
      "source": [
        "features = np.array(features)\n",
        "target = np.array(target)"
      ]
    },
    {
      "cell_type": "code",
      "execution_count": null,
      "id": "8bdec7dd",
      "metadata": {
        "id": "8bdec7dd",
        "outputId": "9ddcd493-5094-4106-aec8-a2fafab52fd2"
      },
      "outputs": [
        {
          "data": {
            "text/plain": [
              "(999, 128, 645, 1)"
            ]
          },
          "execution_count": 93,
          "metadata": {},
          "output_type": "execute_result"
        }
      ],
      "source": [
        "features.shape"
      ]
    },
    {
      "cell_type": "code",
      "execution_count": null,
      "id": "18807196",
      "metadata": {
        "id": "18807196",
        "outputId": "4d552e5d-913d-4490-a108-9f263e4fd46b"
      },
      "outputs": [
        {
          "data": {
            "text/plain": [
              "(999,)"
            ]
          },
          "execution_count": 94,
          "metadata": {},
          "output_type": "execute_result"
        }
      ],
      "source": [
        "target.shape"
      ]
    },
    {
      "cell_type": "code",
      "execution_count": null,
      "id": "ca94dcdc",
      "metadata": {
        "id": "ca94dcdc",
        "outputId": "33529787-8f10-4016-eb7c-f4c96c10aa11"
      },
      "outputs": [
        {
          "data": {
            "text/plain": [
              "(999, 10)"
            ]
          },
          "execution_count": 95,
          "metadata": {},
          "output_type": "execute_result"
        }
      ],
      "source": [
        "target = to_categorical(target)\n",
        "target.shape"
      ]
    },
    {
      "cell_type": "code",
      "execution_count": null,
      "id": "2d333e90",
      "metadata": {
        "id": "2d333e90"
      },
      "outputs": [],
      "source": [
        "X_train, X_test, Y_train, Y_test = train_test_split(features, target, test_size=0.2, random_state=45)"
      ]
    },
    {
      "cell_type": "code",
      "execution_count": null,
      "id": "4ba13f34",
      "metadata": {
        "id": "4ba13f34",
        "outputId": "b903a7af-95c0-4eaf-d3b7-dbe804e222cc"
      },
      "outputs": [
        {
          "data": {
            "text/plain": [
              "(799, 128, 645, 1)"
            ]
          },
          "execution_count": 97,
          "metadata": {},
          "output_type": "execute_result"
        }
      ],
      "source": [
        "X_train.shape"
      ]
    },
    {
      "cell_type": "code",
      "execution_count": null,
      "id": "f4256e8b",
      "metadata": {
        "id": "f4256e8b",
        "outputId": "7b79aff2-e0af-4aed-a4e9-a743b995fed8"
      },
      "outputs": [
        {
          "data": {
            "text/plain": [
              "(200, 128, 645, 1)"
            ]
          },
          "execution_count": 98,
          "metadata": {},
          "output_type": "execute_result"
        }
      ],
      "source": [
        "X_test.shape"
      ]
    },
    {
      "cell_type": "code",
      "execution_count": null,
      "id": "62927a0f",
      "metadata": {
        "id": "62927a0f",
        "outputId": "d9dce50a-cd65-41a1-fe11-bf3f552138a8"
      },
      "outputs": [
        {
          "data": {
            "text/plain": [
              "(799, 10)"
            ]
          },
          "execution_count": 99,
          "metadata": {},
          "output_type": "execute_result"
        }
      ],
      "source": [
        "Y_train.shape"
      ]
    },
    {
      "cell_type": "code",
      "execution_count": null,
      "id": "e62646a5",
      "metadata": {
        "id": "e62646a5",
        "outputId": "ed751613-b1cc-4ecc-b5da-54ecd619ba51"
      },
      "outputs": [
        {
          "data": {
            "text/plain": [
              "(200, 10)"
            ]
          },
          "execution_count": 100,
          "metadata": {},
          "output_type": "execute_result"
        }
      ],
      "source": [
        "Y_test.shape"
      ]
    },
    {
      "cell_type": "code",
      "execution_count": null,
      "id": "a489a8ac",
      "metadata": {
        "id": "a489a8ac"
      },
      "outputs": [],
      "source": []
    },
    {
      "cell_type": "markdown",
      "id": "e6ae4578",
      "metadata": {
        "id": "e6ae4578"
      },
      "source": [
        "## Model Preparation"
      ]
    },
    {
      "cell_type": "code",
      "execution_count": null,
      "id": "5369dc15",
      "metadata": {
        "id": "5369dc15"
      },
      "outputs": [],
      "source": [
        "#Define Architecture\n",
        "model = Sequential()\n",
        "\n",
        "#Convolutional layers\n",
        "model.add(Conv2D(100, (3, 3), input_shape = (128, 645, 1), activation = \"relu\"))\n",
        "model.add(MaxPooling2D((2, 2)))\n",
        "model.add(Conv2D(100, (3, 3), activation = \"relu\"))\n",
        "model.add(MaxPooling2D((2, 2)))\n",
        "model.add(Conv2D(100, (3, 3), activation = \"relu\"))\n",
        "model.add(MaxPooling2D((2, 2)))\n",
        "model.add(Conv2D(100, (3, 3), activation = \"relu\"))\n",
        "model.add(AveragePooling2D((2, 2)))\n",
        "\n",
        "#Dense layers\n",
        "model.add(Flatten())\n",
        "model.add(Dense(256, activation = \"relu\"))\n",
        "model.add(Dropout(0.2))\n",
        "model.add(Dense(128, activation=\"relu\"))\n",
        "model.add(Dropout(0.2))\n",
        "model.add(Dense(64, activation=\"relu\"))\n",
        "model.add(Dropout(0.2))\n",
        "model.add(Dense(10, activation = \"softmax\"))"
      ]
    },
    {
      "cell_type": "code",
      "execution_count": null,
      "id": "84b415af",
      "metadata": {
        "id": "84b415af",
        "outputId": "60d82f69-1f1b-48c4-8e47-409b3db2adbe"
      },
      "outputs": [
        {
          "name": "stdout",
          "output_type": "stream",
          "text": [
            "Model: \"sequential_4\"\n",
            "_________________________________________________________________\n",
            "Layer (type)                 Output Shape              Param #   \n",
            "=================================================================\n",
            "conv2d_16 (Conv2D)           (None, 126, 643, 100)     1000      \n",
            "_________________________________________________________________\n",
            "max_pooling2d_12 (MaxPooling (None, 63, 321, 100)      0         \n",
            "_________________________________________________________________\n",
            "conv2d_17 (Conv2D)           (None, 61, 319, 100)      90100     \n",
            "_________________________________________________________________\n",
            "max_pooling2d_13 (MaxPooling (None, 30, 159, 100)      0         \n",
            "_________________________________________________________________\n",
            "conv2d_18 (Conv2D)           (None, 28, 157, 100)      90100     \n",
            "_________________________________________________________________\n",
            "max_pooling2d_14 (MaxPooling (None, 14, 78, 100)       0         \n",
            "_________________________________________________________________\n",
            "conv2d_19 (Conv2D)           (None, 12, 76, 100)       90100     \n",
            "_________________________________________________________________\n",
            "average_pooling2d_4 (Average (None, 6, 38, 100)        0         \n",
            "_________________________________________________________________\n",
            "flatten_4 (Flatten)          (None, 22800)             0         \n",
            "_________________________________________________________________\n",
            "dense_16 (Dense)             (None, 256)               5837056   \n",
            "_________________________________________________________________\n",
            "dropout_12 (Dropout)         (None, 256)               0         \n",
            "_________________________________________________________________\n",
            "dense_17 (Dense)             (None, 128)               32896     \n",
            "_________________________________________________________________\n",
            "dropout_13 (Dropout)         (None, 128)               0         \n",
            "_________________________________________________________________\n",
            "dense_18 (Dense)             (None, 64)                8256      \n",
            "_________________________________________________________________\n",
            "dropout_14 (Dropout)         (None, 64)                0         \n",
            "_________________________________________________________________\n",
            "dense_19 (Dense)             (None, 10)                650       \n",
            "=================================================================\n",
            "Total params: 6,150,158\n",
            "Trainable params: 6,150,158\n",
            "Non-trainable params: 0\n",
            "_________________________________________________________________\n"
          ]
        }
      ],
      "source": [
        "model.summary()"
      ]
    },
    {
      "cell_type": "code",
      "execution_count": null,
      "id": "a1eee7a7",
      "metadata": {
        "id": "a1eee7a7"
      },
      "outputs": [],
      "source": [
        "#Compile the model\n",
        "model.compile(optimizer = \"adam\", loss = \"categorical_crossentropy\", metrics = [\"accuracy\"])"
      ]
    },
    {
      "cell_type": "code",
      "execution_count": null,
      "id": "0045f4e7",
      "metadata": {
        "id": "0045f4e7"
      },
      "outputs": [],
      "source": [
        "#Fit the model (or) train the model\n",
        "model.fit(X_train, Y_train, epochs = 20, validation_data=(X_test, Y_test))"
      ]
    },
    {
      "cell_type": "code",
      "execution_count": null,
      "id": "d5c794aa",
      "metadata": {
        "id": "d5c794aa"
      },
      "outputs": [],
      "source": [
        "def plot_validate(history):\n",
        "    print(\"Validation Accuracy\", max(history.history[\"val_accuracy\"])*100)\n",
        "    pd.DataFrame(history.history).plot(figsize=(12, 6))"
      ]
    },
    {
      "cell_type": "code",
      "execution_count": null,
      "id": "3f665a4a",
      "metadata": {
        "id": "3f665a4a",
        "outputId": "1ddf92c5-a420-4521-bbf2-03d22e698b94"
      },
      "outputs": [
        {
          "name": "stdout",
          "output_type": "stream",
          "text": [
            "Validation Accuracy 68.00000071525574\n"
          ]
        },
        {
          "data": {
            "image/png": "[encoded data removed]",
            "text/plain": [
              "<Figure size 864x432 with 1 Axes>"
            ]
          },
          "metadata": {
            "needs_background": "light"
          },
          "output_type": "display_data"
        }
      ],
      "source": [
        "plot_validate(model.history)"
      ]
    },
    {
      "cell_type": "code",
      "execution_count": null,
      "id": "1167fcdc",
      "metadata": {
        "id": "1167fcdc"
      },
      "outputs": [],
      "source": []
    },
    {
      "cell_type": "markdown",
      "id": "a8a76b9e",
      "metadata": {
        "id": "a8a76b9e"
      },
      "source": [
        "### Classification Report"
      ]
    },
    {
      "cell_type": "code",
      "execution_count": null,
      "id": "3cee56ad",
      "metadata": {
        "id": "3cee56ad"
      },
      "outputs": [],
      "source": [
        "pred = model.predict(X_test)"
      ]
    },
    {
      "cell_type": "code",
      "execution_count": null,
      "id": "3e605a34",
      "metadata": {
        "id": "3e605a34",
        "outputId": "bdd33463-49ad-4d42-f7a7-865787b089fb"
      },
      "outputs": [
        {
          "data": {
            "text/plain": [
              "array([[1.2671193e-06, 3.1713618e-09, 4.7540271e-07, ..., 6.6798293e-07,\n",
              "        4.9142822e-05, 1.3646579e-04],\n",
              "       [2.8046337e-04, 9.9089462e-03, 9.2729622e-01, ..., 9.4650667e-03,\n",
              "        1.0141551e-02, 1.3159353e-02],\n",
              "       [1.1972599e-03, 1.2172029e-04, 9.9675788e-04, ..., 1.1774109e-06,\n",
              "        2.4886185e-05, 4.9426337e-05],\n",
              "       ...,\n",
              "       [8.9462490e-05, 8.6166918e-02, 3.9105102e-01, ..., 4.5202950e-01,\n",
              "        2.4195014e-02, 1.5694866e-02],\n",
              "       [3.9138127e-02, 1.7909626e-02, 4.5694247e-02, ..., 4.8750624e-02,\n",
              "        4.8745882e-02, 3.6468008e-01],\n",
              "       [6.0795160e-04, 5.8789586e-04, 1.1032900e-01, ..., 5.1842928e-01,\n",
              "        2.9017735e-01, 1.8061141e-02]], dtype=float32)"
            ]
          },
          "execution_count": 108,
          "metadata": {},
          "output_type": "execute_result"
        }
      ],
      "source": [
        "pred"
      ]
    },
    {
      "cell_type": "code",
      "execution_count": null,
      "id": "607cb90b",
      "metadata": {
        "id": "607cb90b",
        "outputId": "f9677dda-001a-426a-fbc9-26fd1ded67cc"
      },
      "outputs": [
        {
          "data": {
            "text/plain": [
              "array([[0., 0., 0., ..., 0., 0., 0.],\n",
              "       [0., 0., 1., ..., 0., 0., 0.],\n",
              "       [0., 0., 0., ..., 0., 0., 0.],\n",
              "       ...,\n",
              "       [0., 0., 0., ..., 0., 0., 1.],\n",
              "       [1., 0., 0., ..., 0., 0., 0.],\n",
              "       [0., 0., 1., ..., 0., 0., 0.]], dtype=float32)"
            ]
          },
          "execution_count": 109,
          "metadata": {},
          "output_type": "execute_result"
        }
      ],
      "source": [
        "Y_test"
      ]
    },
    {
      "cell_type": "code",
      "execution_count": null,
      "id": "7cd29ee5",
      "metadata": {
        "id": "7cd29ee5"
      },
      "outputs": [],
      "source": [
        "Y_pred, test = [], []\n",
        "\n",
        "for i in range(len(pred)):\n",
        "    Y_pred.append(np.argmax(pred[i]))\n",
        "    test.append(np.argmax(Y_test[i]))\n",
        "    \n",
        "Y_pred = np.array(Y_pred)\n",
        "Y_test = np.array(test)"
      ]
    },
    {
      "cell_type": "code",
      "execution_count": null,
      "id": "e60880a7",
      "metadata": {
        "id": "e60880a7",
        "outputId": "ed6b5066-998e-4755-d517-e6e37d21f068"
      },
      "outputs": [
        {
          "data": {
            "text/plain": [
              "array([3, 2, 5, 9, 9, 1, 2, 6, 0, 8, 4, 2, 2, 5, 7, 2, 4, 3, 8, 8, 7, 5,\n",
              "       6, 4, 4, 6, 7, 3, 7, 4, 7, 2, 0, 3, 9, 3, 3, 7, 7, 4, 6, 5, 6, 2,\n",
              "       2, 3, 8, 1, 3, 1, 2, 4, 4, 1, 7, 1, 5, 4, 4, 5, 4, 5, 1, 1, 9, 1,\n",
              "       7, 8, 7, 2, 2, 4, 3, 9, 4, 4, 9, 8, 2, 7, 5, 9, 4, 7, 1, 8, 3, 3,\n",
              "       3, 3, 6, 2, 3, 7, 0, 4, 3, 0, 1, 3, 9, 6, 8, 8, 6, 0, 6, 4, 5, 5,\n",
              "       6, 4, 1, 2, 8, 0, 3, 9, 5, 5, 6, 6, 5, 5, 4, 0, 1, 1, 6, 8, 4, 6,\n",
              "       1, 8, 3, 1, 3, 4, 6, 8, 9, 0, 7, 3, 3, 8, 1, 2, 4, 3, 5, 1, 6, 8,\n",
              "       8, 2, 8, 5, 3, 4, 9, 3, 7, 0, 7, 5, 3, 0, 1, 7, 6, 6, 6, 0, 1, 3,\n",
              "       8, 1, 3, 9, 9, 6, 4, 1, 0, 3, 9, 2, 1, 1, 5, 7, 4, 9, 1, 3, 1, 7,\n",
              "       3, 7], dtype=int64)"
            ]
          },
          "execution_count": 111,
          "metadata": {},
          "output_type": "execute_result"
        }
      ],
      "source": [
        "Y_pred"
      ]
    },
    {
      "cell_type": "code",
      "execution_count": null,
      "id": "6fc44094",
      "metadata": {
        "id": "6fc44094",
        "outputId": "c642ed82-e6a7-46e9-cd71-50086b7dc29b"
      },
      "outputs": [
        {
          "name": "stdout",
          "output_type": "stream",
          "text": [
            "Accuracy:  67.50\n",
            "F1:  67.17\n"
          ]
        }
      ],
      "source": [
        "acc = accuracy_score(Y_test, Y_pred)\n",
        "f1 = f1_score(Y_test, Y_pred, average=\"weighted\")\n",
        "print('Accuracy: ', \"%.2f\" % (acc*100))\n",
        "print('F1: ', \"%.2f\" % (f1*100))"
      ]
    },
    {
      "cell_type": "code",
      "execution_count": null,
      "id": "9c7059f7",
      "metadata": {
        "id": "9c7059f7"
      },
      "outputs": [],
      "source": [
        "cm = confusion_matrix(Y_test, Y_pred)\n",
        "cr = classification_report(Y_test, Y_pred)"
      ]
    },
    {
      "cell_type": "code",
      "execution_count": null,
      "id": "24236e17",
      "metadata": {
        "id": "24236e17",
        "outputId": "b18d3b2d-a1e0-4795-b9c0-c7fdd24e91cc"
      },
      "outputs": [
        {
          "name": "stdout",
          "output_type": "stream",
          "text": [
            "Confusion Matrix: \n",
            " [[ 8  1  4  3  0  1  0  0  2  2]\n",
            " [ 0 20  0  0  0  0  0  0  0  0]\n",
            " [ 0  1 11  2  0  1  0  2  1  4]\n",
            " [ 0  1  0 12  5  0  0  1  1  1]\n",
            " [ 0  0  0  1 16  0  0  0  1  0]\n",
            " [ 0  1  2  0  0 16  0  0  1  1]\n",
            " [ 0  0  0  0  1  0 20  0  0  1]\n",
            " [ 0  1  0  1  1  0  0 16  1  0]\n",
            " [ 4  0  0  9  1  0  0  0 10  0]\n",
            " [ 0  0  0  2  1  0  0  1  1  6]]\n",
            "\n",
            "\n",
            "Classification Report: \n",
            "               precision    recall  f1-score   support\n",
            "\n",
            "           0       0.67      0.38      0.48        21\n",
            "           1       0.80      1.00      0.89        20\n",
            "           2       0.65      0.50      0.56        22\n",
            "           3       0.40      0.57      0.47        21\n",
            "           4       0.64      0.89      0.74        18\n",
            "           5       0.89      0.76      0.82        21\n",
            "           6       1.00      0.91      0.95        22\n",
            "           7       0.80      0.80      0.80        20\n",
            "           8       0.56      0.42      0.48        24\n",
            "           9       0.40      0.55      0.46        11\n",
            "\n",
            "    accuracy                           0.68       200\n",
            "   macro avg       0.68      0.68      0.67       200\n",
            "weighted avg       0.69      0.68      0.67       200\n",
            "\n"
          ]
        }
      ],
      "source": [
        "print(\"Confusion Matrix: \\n\", cm)\n",
        "print(\"\\n\")\n",
        "print(\"Classification Report: \\n\", cr)"
      ]
    },
    {
      "cell_type": "code",
      "execution_count": null,
      "id": "941b49ce",
      "metadata": {
        "id": "941b49ce"
      },
      "outputs": [],
      "source": [
        "labels = ['blues', 'classical', 'country', 'disco', 'hiphop', 'jazz', 'metal', 'pop', 'reggae', 'rock']"
      ]
    },
    {
      "cell_type": "code",
      "execution_count": null,
      "id": "672cd24d",
      "metadata": {
        "id": "672cd24d"
      },
      "outputs": [],
      "source": [
        "import seaborn as sns\n",
        "import matplotlib.pyplot as plt"
      ]
    },
    {
      "cell_type": "code",
      "execution_count": null,
      "id": "39b8c04b",
      "metadata": {
        "id": "39b8c04b",
        "outputId": "45d99921-d20e-45e1-ede4-15c28770f2d3"
      },
      "outputs": [
        {
          "data": {
            "text/plain": [
              "Text(69.0, 0.5, 'Actual Values')"
            ]
          },
          "execution_count": 117,
          "metadata": {},
          "output_type": "execute_result"
        },
        {
          "data": {
            "image/png": "[encoded data removed]",
            "text/plain": [
              "<Figure size 720x504 with 2 Axes>"
            ]
          },
          "metadata": {
            "needs_background": "light"
          },
          "output_type": "display_data"
        }
      ],
      "source": [
        "plt.figure(figsize=(10,7))\n",
        "sns.heatmap(cm,annot=True,cmap=\"Blues\",xticklabels=labels,yticklabels=labels)\n",
        "plt.xlabel('Predicted Values')\n",
        "plt.ylabel('Actual Values')"
      ]
    },
    {
      "cell_type": "markdown",
      "id": "d2a598bb",
      "metadata": {
        "id": "d2a598bb"
      },
      "source": [
        "### Saving Model"
      ]
    },
    {
      "cell_type": "code",
      "execution_count": null,
      "id": "8fce15b3",
      "metadata": {
        "id": "8fce15b3",
        "outputId": "87571af0-b871-4830-c65e-592c6b8820d8"
      },
      "outputs": [
        {
          "name": "stdout",
          "output_type": "stream",
          "text": [
            "Model started saving...\n",
            "INFO:tensorflow:Assets written to: Music_Genre_Classifier_cnn\\assets\n",
            "Model saved successfully...\n"
          ]
        }
      ],
      "source": [
        "print(\"Model started saving...\")\n",
        "model.save(\"Music_Genre_Classifier_cnn\", save_format='tf')\n",
        "print(\"Model saved successfully...\")"
      ]
    },
    {
      "cell_type": "code",
      "execution_count": null,
      "id": "96be9e48",
      "metadata": {
        "id": "96be9e48"
      },
      "outputs": [],
      "source": []
    }
  ],
  "metadata": {
    "kernelspec": {
      "display_name": "Python 3 (ipykernel)",
      "language": "python",
      "name": "python3"
    },
    "language_info": {
      "codemirror_mode": {
        "name": "ipython",
        "version": 3
      },
      "file_extension": ".py",
      "mimetype": "text/x-python",
      "name": "python",
      "nbconvert_exporter": "python",
      "pygments_lexer": "ipython3",
      "version": "3.8.8"
    },
    "colab": {
      "provenance": [],
      "include_colab_link": true
    }
  },
  "nbformat": 4,
  "nbformat_minor": 5
}